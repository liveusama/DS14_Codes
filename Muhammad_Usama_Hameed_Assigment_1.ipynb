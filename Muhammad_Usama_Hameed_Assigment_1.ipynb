{
  "nbformat": 4,
  "nbformat_minor": 0,
  "metadata": {
    "colab": {
      "name": "Muhammad Usama Hameed Assigment 1",
      "provenance": [],
      "collapsed_sections": [],
      "authorship_tag": "ABX9TyMl3+efr+wy99wb7rs5xGRW",
      "include_colab_link": true
    },
    "kernelspec": {
      "name": "python3",
      "display_name": "Python 3"
    }
  },
  "cells": [
    {
      "cell_type": "markdown",
      "metadata": {
        "id": "view-in-github",
        "colab_type": "text"
      },
      "source": [
        "<a href=\"https://colab.research.google.com/github/liveusama/DS14_Codes/blob/master/Muhammad_Usama_Hameed_Assigment_1.ipynb\" target=\"_parent\"><img src=\"https://colab.research.google.com/assets/colab-badge.svg\" alt=\"Open In Colab\"/></a>"
      ]
    },
    {
      "cell_type": "markdown",
      "metadata": {
        "id": "6sdtd5w5uqmT",
        "colab_type": "text"
      },
      "source": [
        "# ***Importing drive mount***"
      ]
    },
    {
      "cell_type": "code",
      "metadata": {
        "id": "JrKkl6Dh1A58",
        "colab_type": "code",
        "outputId": "aa3a646e-5528-407d-e6d6-cf4c4fe52151",
        "colab": {
          "base_uri": "https://localhost:8080/",
          "height": 35
        }
      },
      "source": [
        "\n",
        "from google.colab import drive\n",
        "drive.mount('/content/gdrive')"
      ],
      "execution_count": 399,
      "outputs": [
        {
          "output_type": "stream",
          "text": [
            "Drive already mounted at /content/gdrive; to attempt to forcibly remount, call drive.mount(\"/content/gdrive\", force_remount=True).\n"
          ],
          "name": "stdout"
        }
      ]
    },
    {
      "cell_type": "markdown",
      "metadata": {
        "id": "tIDEgirtu_5x",
        "colab_type": "text"
      },
      "source": [
        "# Importing Libaries"
      ]
    },
    {
      "cell_type": "code",
      "metadata": {
        "id": "nzJwE4OEYSKl",
        "colab_type": "code",
        "colab": {}
      },
      "source": [
        "#!pip install category_encoders"
      ],
      "execution_count": 0,
      "outputs": []
    },
    {
      "cell_type": "code",
      "metadata": {
        "id": "kkGPIX_4E8Vb",
        "colab_type": "code",
        "colab": {}
      },
      "source": [
        "import pandas as pd\n",
        "import numpy as np\n",
        "import matplotlib.pyplot as plt\n",
        "import seaborn as sns\n",
        "from sklearn.preprocessing import LabelEncoder"
      ],
      "execution_count": 0,
      "outputs": []
    },
    {
      "cell_type": "markdown",
      "metadata": {
        "id": "AnIfhcZ9vFy0",
        "colab_type": "text"
      },
      "source": [
        "## Dataset "
      ]
    },
    {
      "cell_type": "code",
      "metadata": {
        "id": "PaSIz7q_1i78",
        "colab_type": "code",
        "colab": {}
      },
      "source": [
        "df=pd.read_csv('gdrive/My Drive/encoding.csv')"
      ],
      "execution_count": 0,
      "outputs": []
    },
    {
      "cell_type": "code",
      "metadata": {
        "id": "R_-xO3OIE2dm",
        "colab_type": "code",
        "outputId": "e6ed0666-79b1-4a17-81ba-765de51c5c54",
        "colab": {
          "base_uri": "https://localhost:8080/",
          "height": 252
        }
      },
      "source": [
        "df.head()"
      ],
      "execution_count": 403,
      "outputs": [
        {
          "output_type": "execute_result",
          "data": {
            "text/html": [
              "<div>\n",
              "<style scoped>\n",
              "    .dataframe tbody tr th:only-of-type {\n",
              "        vertical-align: middle;\n",
              "    }\n",
              "\n",
              "    .dataframe tbody tr th {\n",
              "        vertical-align: top;\n",
              "    }\n",
              "\n",
              "    .dataframe thead th {\n",
              "        text-align: right;\n",
              "    }\n",
              "</style>\n",
              "<table border=\"1\" class=\"dataframe\">\n",
              "  <thead>\n",
              "    <tr style=\"text-align: right;\">\n",
              "      <th></th>\n",
              "      <th>id</th>\n",
              "      <th>bin_0</th>\n",
              "      <th>bin_1</th>\n",
              "      <th>bin_2</th>\n",
              "      <th>bin_3</th>\n",
              "      <th>bin_4</th>\n",
              "      <th>nom_0</th>\n",
              "      <th>nom_1</th>\n",
              "      <th>nom_2</th>\n",
              "      <th>nom_3</th>\n",
              "      <th>nom_4</th>\n",
              "      <th>nom_5</th>\n",
              "      <th>nom_6</th>\n",
              "      <th>nom_7</th>\n",
              "      <th>nom_8</th>\n",
              "      <th>nom_9</th>\n",
              "      <th>ord_0</th>\n",
              "      <th>ord_1</th>\n",
              "      <th>ord_2</th>\n",
              "      <th>ord_3</th>\n",
              "      <th>ord_4</th>\n",
              "      <th>ord_5</th>\n",
              "      <th>day</th>\n",
              "      <th>month</th>\n",
              "      <th>target</th>\n",
              "    </tr>\n",
              "  </thead>\n",
              "  <tbody>\n",
              "    <tr>\n",
              "      <th>0</th>\n",
              "      <td>0</td>\n",
              "      <td>0.0</td>\n",
              "      <td>0.0</td>\n",
              "      <td>0.0</td>\n",
              "      <td>F</td>\n",
              "      <td>N</td>\n",
              "      <td>Red</td>\n",
              "      <td>Trapezoid</td>\n",
              "      <td>Hamster</td>\n",
              "      <td>Russia</td>\n",
              "      <td>Bassoon</td>\n",
              "      <td>de4c57ee2</td>\n",
              "      <td>a64bc7ddf</td>\n",
              "      <td>598080a91</td>\n",
              "      <td>0256c7a4b</td>\n",
              "      <td>02e7c8990</td>\n",
              "      <td>3.0</td>\n",
              "      <td>Contributor</td>\n",
              "      <td>Hot</td>\n",
              "      <td>c</td>\n",
              "      <td>U</td>\n",
              "      <td>Pw</td>\n",
              "      <td>6.0</td>\n",
              "      <td>3.0</td>\n",
              "      <td>0</td>\n",
              "    </tr>\n",
              "    <tr>\n",
              "      <th>1</th>\n",
              "      <td>1</td>\n",
              "      <td>1.0</td>\n",
              "      <td>1.0</td>\n",
              "      <td>0.0</td>\n",
              "      <td>F</td>\n",
              "      <td>Y</td>\n",
              "      <td>Red</td>\n",
              "      <td>Star</td>\n",
              "      <td>Axolotl</td>\n",
              "      <td>NaN</td>\n",
              "      <td>Theremin</td>\n",
              "      <td>2bb3c3e5c</td>\n",
              "      <td>3a3a936e8</td>\n",
              "      <td>1dddb8473</td>\n",
              "      <td>52ead350c</td>\n",
              "      <td>f37df64af</td>\n",
              "      <td>3.0</td>\n",
              "      <td>Grandmaster</td>\n",
              "      <td>Warm</td>\n",
              "      <td>e</td>\n",
              "      <td>X</td>\n",
              "      <td>pE</td>\n",
              "      <td>7.0</td>\n",
              "      <td>7.0</td>\n",
              "      <td>0</td>\n",
              "    </tr>\n",
              "    <tr>\n",
              "      <th>2</th>\n",
              "      <td>2</td>\n",
              "      <td>0.0</td>\n",
              "      <td>1.0</td>\n",
              "      <td>0.0</td>\n",
              "      <td>F</td>\n",
              "      <td>N</td>\n",
              "      <td>Red</td>\n",
              "      <td>NaN</td>\n",
              "      <td>Hamster</td>\n",
              "      <td>Canada</td>\n",
              "      <td>Bassoon</td>\n",
              "      <td>b574c9841</td>\n",
              "      <td>708248125</td>\n",
              "      <td>5ddc9a726</td>\n",
              "      <td>745b909d1</td>\n",
              "      <td>NaN</td>\n",
              "      <td>3.0</td>\n",
              "      <td>NaN</td>\n",
              "      <td>Freezing</td>\n",
              "      <td>n</td>\n",
              "      <td>P</td>\n",
              "      <td>eN</td>\n",
              "      <td>5.0</td>\n",
              "      <td>9.0</td>\n",
              "      <td>0</td>\n",
              "    </tr>\n",
              "    <tr>\n",
              "      <th>3</th>\n",
              "      <td>3</td>\n",
              "      <td>NaN</td>\n",
              "      <td>0.0</td>\n",
              "      <td>0.0</td>\n",
              "      <td>F</td>\n",
              "      <td>N</td>\n",
              "      <td>Red</td>\n",
              "      <td>Circle</td>\n",
              "      <td>Hamster</td>\n",
              "      <td>Finland</td>\n",
              "      <td>Theremin</td>\n",
              "      <td>673bdf1f6</td>\n",
              "      <td>23edb8da3</td>\n",
              "      <td>3a33ef960</td>\n",
              "      <td>bdaa56dd1</td>\n",
              "      <td>f9d456e57</td>\n",
              "      <td>1.0</td>\n",
              "      <td>Novice</td>\n",
              "      <td>Lava Hot</td>\n",
              "      <td>a</td>\n",
              "      <td>C</td>\n",
              "      <td>NaN</td>\n",
              "      <td>3.0</td>\n",
              "      <td>3.0</td>\n",
              "      <td>0</td>\n",
              "    </tr>\n",
              "    <tr>\n",
              "      <th>4</th>\n",
              "      <td>4</td>\n",
              "      <td>0.0</td>\n",
              "      <td>NaN</td>\n",
              "      <td>0.0</td>\n",
              "      <td>T</td>\n",
              "      <td>N</td>\n",
              "      <td>Red</td>\n",
              "      <td>Triangle</td>\n",
              "      <td>Hamster</td>\n",
              "      <td>Costa Rica</td>\n",
              "      <td>NaN</td>\n",
              "      <td>777d1ac2c</td>\n",
              "      <td>3a7975e46</td>\n",
              "      <td>bc9cc2a94</td>\n",
              "      <td>NaN</td>\n",
              "      <td>c5361037c</td>\n",
              "      <td>3.0</td>\n",
              "      <td>Grandmaster</td>\n",
              "      <td>Cold</td>\n",
              "      <td>h</td>\n",
              "      <td>C</td>\n",
              "      <td>OZ</td>\n",
              "      <td>5.0</td>\n",
              "      <td>12.0</td>\n",
              "      <td>0</td>\n",
              "    </tr>\n",
              "  </tbody>\n",
              "</table>\n",
              "</div>"
            ],
            "text/plain": [
              "   id  bin_0  bin_1  bin_2 bin_3 bin_4 nom_0      nom_1    nom_2       nom_3  \\\n",
              "0   0    0.0    0.0    0.0     F     N   Red  Trapezoid  Hamster      Russia   \n",
              "1   1    1.0    1.0    0.0     F     Y   Red       Star  Axolotl         NaN   \n",
              "2   2    0.0    1.0    0.0     F     N   Red        NaN  Hamster      Canada   \n",
              "3   3    NaN    0.0    0.0     F     N   Red     Circle  Hamster     Finland   \n",
              "4   4    0.0    NaN    0.0     T     N   Red   Triangle  Hamster  Costa Rica   \n",
              "\n",
              "      nom_4      nom_5      nom_6      nom_7      nom_8      nom_9  ord_0  \\\n",
              "0   Bassoon  de4c57ee2  a64bc7ddf  598080a91  0256c7a4b  02e7c8990    3.0   \n",
              "1  Theremin  2bb3c3e5c  3a3a936e8  1dddb8473  52ead350c  f37df64af    3.0   \n",
              "2   Bassoon  b574c9841  708248125  5ddc9a726  745b909d1        NaN    3.0   \n",
              "3  Theremin  673bdf1f6  23edb8da3  3a33ef960  bdaa56dd1  f9d456e57    1.0   \n",
              "4       NaN  777d1ac2c  3a7975e46  bc9cc2a94        NaN  c5361037c    3.0   \n",
              "\n",
              "         ord_1     ord_2 ord_3 ord_4 ord_5  day  month  target  \n",
              "0  Contributor       Hot     c     U    Pw  6.0    3.0       0  \n",
              "1  Grandmaster      Warm     e     X    pE  7.0    7.0       0  \n",
              "2          NaN  Freezing     n     P    eN  5.0    9.0       0  \n",
              "3       Novice  Lava Hot     a     C   NaN  3.0    3.0       0  \n",
              "4  Grandmaster      Cold     h     C    OZ  5.0   12.0       0  "
            ]
          },
          "metadata": {
            "tags": []
          },
          "execution_count": 403
        }
      ]
    },
    {
      "cell_type": "markdown",
      "metadata": {
        "id": "xlRb-O9dvX4a",
        "colab_type": "text"
      },
      "source": [
        "# **A code using pandas to unhide all columns.**"
      ]
    },
    {
      "cell_type": "code",
      "metadata": {
        "id": "O4Mh_BUQFFww",
        "colab_type": "code",
        "outputId": "4032a88c-25f4-44ec-e980-94f17352f15b",
        "colab": {
          "base_uri": "https://localhost:8080/",
          "height": 252
        }
      },
      "source": [
        "pd.set_option('display.max_columns', None)\n",
        "df.head()"
      ],
      "execution_count": 404,
      "outputs": [
        {
          "output_type": "execute_result",
          "data": {
            "text/html": [
              "<div>\n",
              "<style scoped>\n",
              "    .dataframe tbody tr th:only-of-type {\n",
              "        vertical-align: middle;\n",
              "    }\n",
              "\n",
              "    .dataframe tbody tr th {\n",
              "        vertical-align: top;\n",
              "    }\n",
              "\n",
              "    .dataframe thead th {\n",
              "        text-align: right;\n",
              "    }\n",
              "</style>\n",
              "<table border=\"1\" class=\"dataframe\">\n",
              "  <thead>\n",
              "    <tr style=\"text-align: right;\">\n",
              "      <th></th>\n",
              "      <th>id</th>\n",
              "      <th>bin_0</th>\n",
              "      <th>bin_1</th>\n",
              "      <th>bin_2</th>\n",
              "      <th>bin_3</th>\n",
              "      <th>bin_4</th>\n",
              "      <th>nom_0</th>\n",
              "      <th>nom_1</th>\n",
              "      <th>nom_2</th>\n",
              "      <th>nom_3</th>\n",
              "      <th>nom_4</th>\n",
              "      <th>nom_5</th>\n",
              "      <th>nom_6</th>\n",
              "      <th>nom_7</th>\n",
              "      <th>nom_8</th>\n",
              "      <th>nom_9</th>\n",
              "      <th>ord_0</th>\n",
              "      <th>ord_1</th>\n",
              "      <th>ord_2</th>\n",
              "      <th>ord_3</th>\n",
              "      <th>ord_4</th>\n",
              "      <th>ord_5</th>\n",
              "      <th>day</th>\n",
              "      <th>month</th>\n",
              "      <th>target</th>\n",
              "    </tr>\n",
              "  </thead>\n",
              "  <tbody>\n",
              "    <tr>\n",
              "      <th>0</th>\n",
              "      <td>0</td>\n",
              "      <td>0.0</td>\n",
              "      <td>0.0</td>\n",
              "      <td>0.0</td>\n",
              "      <td>F</td>\n",
              "      <td>N</td>\n",
              "      <td>Red</td>\n",
              "      <td>Trapezoid</td>\n",
              "      <td>Hamster</td>\n",
              "      <td>Russia</td>\n",
              "      <td>Bassoon</td>\n",
              "      <td>de4c57ee2</td>\n",
              "      <td>a64bc7ddf</td>\n",
              "      <td>598080a91</td>\n",
              "      <td>0256c7a4b</td>\n",
              "      <td>02e7c8990</td>\n",
              "      <td>3.0</td>\n",
              "      <td>Contributor</td>\n",
              "      <td>Hot</td>\n",
              "      <td>c</td>\n",
              "      <td>U</td>\n",
              "      <td>Pw</td>\n",
              "      <td>6.0</td>\n",
              "      <td>3.0</td>\n",
              "      <td>0</td>\n",
              "    </tr>\n",
              "    <tr>\n",
              "      <th>1</th>\n",
              "      <td>1</td>\n",
              "      <td>1.0</td>\n",
              "      <td>1.0</td>\n",
              "      <td>0.0</td>\n",
              "      <td>F</td>\n",
              "      <td>Y</td>\n",
              "      <td>Red</td>\n",
              "      <td>Star</td>\n",
              "      <td>Axolotl</td>\n",
              "      <td>NaN</td>\n",
              "      <td>Theremin</td>\n",
              "      <td>2bb3c3e5c</td>\n",
              "      <td>3a3a936e8</td>\n",
              "      <td>1dddb8473</td>\n",
              "      <td>52ead350c</td>\n",
              "      <td>f37df64af</td>\n",
              "      <td>3.0</td>\n",
              "      <td>Grandmaster</td>\n",
              "      <td>Warm</td>\n",
              "      <td>e</td>\n",
              "      <td>X</td>\n",
              "      <td>pE</td>\n",
              "      <td>7.0</td>\n",
              "      <td>7.0</td>\n",
              "      <td>0</td>\n",
              "    </tr>\n",
              "    <tr>\n",
              "      <th>2</th>\n",
              "      <td>2</td>\n",
              "      <td>0.0</td>\n",
              "      <td>1.0</td>\n",
              "      <td>0.0</td>\n",
              "      <td>F</td>\n",
              "      <td>N</td>\n",
              "      <td>Red</td>\n",
              "      <td>NaN</td>\n",
              "      <td>Hamster</td>\n",
              "      <td>Canada</td>\n",
              "      <td>Bassoon</td>\n",
              "      <td>b574c9841</td>\n",
              "      <td>708248125</td>\n",
              "      <td>5ddc9a726</td>\n",
              "      <td>745b909d1</td>\n",
              "      <td>NaN</td>\n",
              "      <td>3.0</td>\n",
              "      <td>NaN</td>\n",
              "      <td>Freezing</td>\n",
              "      <td>n</td>\n",
              "      <td>P</td>\n",
              "      <td>eN</td>\n",
              "      <td>5.0</td>\n",
              "      <td>9.0</td>\n",
              "      <td>0</td>\n",
              "    </tr>\n",
              "    <tr>\n",
              "      <th>3</th>\n",
              "      <td>3</td>\n",
              "      <td>NaN</td>\n",
              "      <td>0.0</td>\n",
              "      <td>0.0</td>\n",
              "      <td>F</td>\n",
              "      <td>N</td>\n",
              "      <td>Red</td>\n",
              "      <td>Circle</td>\n",
              "      <td>Hamster</td>\n",
              "      <td>Finland</td>\n",
              "      <td>Theremin</td>\n",
              "      <td>673bdf1f6</td>\n",
              "      <td>23edb8da3</td>\n",
              "      <td>3a33ef960</td>\n",
              "      <td>bdaa56dd1</td>\n",
              "      <td>f9d456e57</td>\n",
              "      <td>1.0</td>\n",
              "      <td>Novice</td>\n",
              "      <td>Lava Hot</td>\n",
              "      <td>a</td>\n",
              "      <td>C</td>\n",
              "      <td>NaN</td>\n",
              "      <td>3.0</td>\n",
              "      <td>3.0</td>\n",
              "      <td>0</td>\n",
              "    </tr>\n",
              "    <tr>\n",
              "      <th>4</th>\n",
              "      <td>4</td>\n",
              "      <td>0.0</td>\n",
              "      <td>NaN</td>\n",
              "      <td>0.0</td>\n",
              "      <td>T</td>\n",
              "      <td>N</td>\n",
              "      <td>Red</td>\n",
              "      <td>Triangle</td>\n",
              "      <td>Hamster</td>\n",
              "      <td>Costa Rica</td>\n",
              "      <td>NaN</td>\n",
              "      <td>777d1ac2c</td>\n",
              "      <td>3a7975e46</td>\n",
              "      <td>bc9cc2a94</td>\n",
              "      <td>NaN</td>\n",
              "      <td>c5361037c</td>\n",
              "      <td>3.0</td>\n",
              "      <td>Grandmaster</td>\n",
              "      <td>Cold</td>\n",
              "      <td>h</td>\n",
              "      <td>C</td>\n",
              "      <td>OZ</td>\n",
              "      <td>5.0</td>\n",
              "      <td>12.0</td>\n",
              "      <td>0</td>\n",
              "    </tr>\n",
              "  </tbody>\n",
              "</table>\n",
              "</div>"
            ],
            "text/plain": [
              "   id  bin_0  bin_1  bin_2 bin_3 bin_4 nom_0      nom_1    nom_2       nom_3  \\\n",
              "0   0    0.0    0.0    0.0     F     N   Red  Trapezoid  Hamster      Russia   \n",
              "1   1    1.0    1.0    0.0     F     Y   Red       Star  Axolotl         NaN   \n",
              "2   2    0.0    1.0    0.0     F     N   Red        NaN  Hamster      Canada   \n",
              "3   3    NaN    0.0    0.0     F     N   Red     Circle  Hamster     Finland   \n",
              "4   4    0.0    NaN    0.0     T     N   Red   Triangle  Hamster  Costa Rica   \n",
              "\n",
              "      nom_4      nom_5      nom_6      nom_7      nom_8      nom_9  ord_0  \\\n",
              "0   Bassoon  de4c57ee2  a64bc7ddf  598080a91  0256c7a4b  02e7c8990    3.0   \n",
              "1  Theremin  2bb3c3e5c  3a3a936e8  1dddb8473  52ead350c  f37df64af    3.0   \n",
              "2   Bassoon  b574c9841  708248125  5ddc9a726  745b909d1        NaN    3.0   \n",
              "3  Theremin  673bdf1f6  23edb8da3  3a33ef960  bdaa56dd1  f9d456e57    1.0   \n",
              "4       NaN  777d1ac2c  3a7975e46  bc9cc2a94        NaN  c5361037c    3.0   \n",
              "\n",
              "         ord_1     ord_2 ord_3 ord_4 ord_5  day  month  target  \n",
              "0  Contributor       Hot     c     U    Pw  6.0    3.0       0  \n",
              "1  Grandmaster      Warm     e     X    pE  7.0    7.0       0  \n",
              "2          NaN  Freezing     n     P    eN  5.0    9.0       0  \n",
              "3       Novice  Lava Hot     a     C   NaN  3.0    3.0       0  \n",
              "4  Grandmaster      Cold     h     C    OZ  5.0   12.0       0  "
            ]
          },
          "metadata": {
            "tags": []
          },
          "execution_count": 404
        }
      ]
    },
    {
      "cell_type": "code",
      "metadata": {
        "id": "3knzklk1HkFI",
        "colab_type": "code",
        "outputId": "36ef4ffa-a40d-4282-a734-8c65a6f05c6d",
        "colab": {
          "base_uri": "https://localhost:8080/",
          "height": 588
        }
      },
      "source": [
        "df.info()"
      ],
      "execution_count": 405,
      "outputs": [
        {
          "output_type": "stream",
          "text": [
            "<class 'pandas.core.frame.DataFrame'>\n",
            "RangeIndex: 600000 entries, 0 to 599999\n",
            "Data columns (total 25 columns):\n",
            " #   Column  Non-Null Count   Dtype  \n",
            "---  ------  --------------   -----  \n",
            " 0   id      600000 non-null  int64  \n",
            " 1   bin_0   582106 non-null  float64\n",
            " 2   bin_1   581997 non-null  float64\n",
            " 3   bin_2   582070 non-null  float64\n",
            " 4   bin_3   581986 non-null  object \n",
            " 5   bin_4   581953 non-null  object \n",
            " 6   nom_0   581748 non-null  object \n",
            " 7   nom_1   581844 non-null  object \n",
            " 8   nom_2   581965 non-null  object \n",
            " 9   nom_3   581879 non-null  object \n",
            " 10  nom_4   581965 non-null  object \n",
            " 11  nom_5   582222 non-null  object \n",
            " 12  nom_6   581869 non-null  object \n",
            " 13  nom_7   581997 non-null  object \n",
            " 14  nom_8   582245 non-null  object \n",
            " 15  nom_9   581927 non-null  object \n",
            " 16  ord_0   581712 non-null  float64\n",
            " 17  ord_1   581959 non-null  object \n",
            " 18  ord_2   581925 non-null  object \n",
            " 19  ord_3   582084 non-null  object \n",
            " 20  ord_4   582070 non-null  object \n",
            " 21  ord_5   582287 non-null  object \n",
            " 22  day     582048 non-null  float64\n",
            " 23  month   582012 non-null  float64\n",
            " 24  target  600000 non-null  int64  \n",
            "dtypes: float64(6), int64(2), object(17)\n",
            "memory usage: 114.4+ MB\n"
          ],
          "name": "stdout"
        }
      ]
    },
    {
      "cell_type": "code",
      "metadata": {
        "id": "rcIIBeZoHtR1",
        "colab_type": "code",
        "outputId": "9796e36f-6109-4641-a15a-576bbd92c952",
        "colab": {
          "base_uri": "https://localhost:8080/",
          "height": 481
        }
      },
      "source": [
        "#check the null value\n",
        "df.isnull().sum()"
      ],
      "execution_count": 406,
      "outputs": [
        {
          "output_type": "execute_result",
          "data": {
            "text/plain": [
              "id            0\n",
              "bin_0     17894\n",
              "bin_1     18003\n",
              "bin_2     17930\n",
              "bin_3     18014\n",
              "bin_4     18047\n",
              "nom_0     18252\n",
              "nom_1     18156\n",
              "nom_2     18035\n",
              "nom_3     18121\n",
              "nom_4     18035\n",
              "nom_5     17778\n",
              "nom_6     18131\n",
              "nom_7     18003\n",
              "nom_8     17755\n",
              "nom_9     18073\n",
              "ord_0     18288\n",
              "ord_1     18041\n",
              "ord_2     18075\n",
              "ord_3     17916\n",
              "ord_4     17930\n",
              "ord_5     17713\n",
              "day       17952\n",
              "month     17988\n",
              "target        0\n",
              "dtype: int64"
            ]
          },
          "metadata": {
            "tags": []
          },
          "execution_count": 406
        }
      ]
    },
    {
      "cell_type": "code",
      "metadata": {
        "id": "p-242VekHyI6",
        "colab_type": "code",
        "outputId": "32a51c69-0e14-41e9-d077-b865dbe5ad64",
        "colab": {
          "base_uri": "https://localhost:8080/",
          "height": 198
        }
      },
      "source": [
        "obj_df = df.select_dtypes(include=['object']).copy()\n",
        "obj_df.head()"
      ],
      "execution_count": 407,
      "outputs": [
        {
          "output_type": "execute_result",
          "data": {
            "text/html": [
              "<div>\n",
              "<style scoped>\n",
              "    .dataframe tbody tr th:only-of-type {\n",
              "        vertical-align: middle;\n",
              "    }\n",
              "\n",
              "    .dataframe tbody tr th {\n",
              "        vertical-align: top;\n",
              "    }\n",
              "\n",
              "    .dataframe thead th {\n",
              "        text-align: right;\n",
              "    }\n",
              "</style>\n",
              "<table border=\"1\" class=\"dataframe\">\n",
              "  <thead>\n",
              "    <tr style=\"text-align: right;\">\n",
              "      <th></th>\n",
              "      <th>bin_3</th>\n",
              "      <th>bin_4</th>\n",
              "      <th>nom_0</th>\n",
              "      <th>nom_1</th>\n",
              "      <th>nom_2</th>\n",
              "      <th>nom_3</th>\n",
              "      <th>nom_4</th>\n",
              "      <th>nom_5</th>\n",
              "      <th>nom_6</th>\n",
              "      <th>nom_7</th>\n",
              "      <th>nom_8</th>\n",
              "      <th>nom_9</th>\n",
              "      <th>ord_1</th>\n",
              "      <th>ord_2</th>\n",
              "      <th>ord_3</th>\n",
              "      <th>ord_4</th>\n",
              "      <th>ord_5</th>\n",
              "    </tr>\n",
              "  </thead>\n",
              "  <tbody>\n",
              "    <tr>\n",
              "      <th>0</th>\n",
              "      <td>F</td>\n",
              "      <td>N</td>\n",
              "      <td>Red</td>\n",
              "      <td>Trapezoid</td>\n",
              "      <td>Hamster</td>\n",
              "      <td>Russia</td>\n",
              "      <td>Bassoon</td>\n",
              "      <td>de4c57ee2</td>\n",
              "      <td>a64bc7ddf</td>\n",
              "      <td>598080a91</td>\n",
              "      <td>0256c7a4b</td>\n",
              "      <td>02e7c8990</td>\n",
              "      <td>Contributor</td>\n",
              "      <td>Hot</td>\n",
              "      <td>c</td>\n",
              "      <td>U</td>\n",
              "      <td>Pw</td>\n",
              "    </tr>\n",
              "    <tr>\n",
              "      <th>1</th>\n",
              "      <td>F</td>\n",
              "      <td>Y</td>\n",
              "      <td>Red</td>\n",
              "      <td>Star</td>\n",
              "      <td>Axolotl</td>\n",
              "      <td>NaN</td>\n",
              "      <td>Theremin</td>\n",
              "      <td>2bb3c3e5c</td>\n",
              "      <td>3a3a936e8</td>\n",
              "      <td>1dddb8473</td>\n",
              "      <td>52ead350c</td>\n",
              "      <td>f37df64af</td>\n",
              "      <td>Grandmaster</td>\n",
              "      <td>Warm</td>\n",
              "      <td>e</td>\n",
              "      <td>X</td>\n",
              "      <td>pE</td>\n",
              "    </tr>\n",
              "    <tr>\n",
              "      <th>2</th>\n",
              "      <td>F</td>\n",
              "      <td>N</td>\n",
              "      <td>Red</td>\n",
              "      <td>NaN</td>\n",
              "      <td>Hamster</td>\n",
              "      <td>Canada</td>\n",
              "      <td>Bassoon</td>\n",
              "      <td>b574c9841</td>\n",
              "      <td>708248125</td>\n",
              "      <td>5ddc9a726</td>\n",
              "      <td>745b909d1</td>\n",
              "      <td>NaN</td>\n",
              "      <td>NaN</td>\n",
              "      <td>Freezing</td>\n",
              "      <td>n</td>\n",
              "      <td>P</td>\n",
              "      <td>eN</td>\n",
              "    </tr>\n",
              "    <tr>\n",
              "      <th>3</th>\n",
              "      <td>F</td>\n",
              "      <td>N</td>\n",
              "      <td>Red</td>\n",
              "      <td>Circle</td>\n",
              "      <td>Hamster</td>\n",
              "      <td>Finland</td>\n",
              "      <td>Theremin</td>\n",
              "      <td>673bdf1f6</td>\n",
              "      <td>23edb8da3</td>\n",
              "      <td>3a33ef960</td>\n",
              "      <td>bdaa56dd1</td>\n",
              "      <td>f9d456e57</td>\n",
              "      <td>Novice</td>\n",
              "      <td>Lava Hot</td>\n",
              "      <td>a</td>\n",
              "      <td>C</td>\n",
              "      <td>NaN</td>\n",
              "    </tr>\n",
              "    <tr>\n",
              "      <th>4</th>\n",
              "      <td>T</td>\n",
              "      <td>N</td>\n",
              "      <td>Red</td>\n",
              "      <td>Triangle</td>\n",
              "      <td>Hamster</td>\n",
              "      <td>Costa Rica</td>\n",
              "      <td>NaN</td>\n",
              "      <td>777d1ac2c</td>\n",
              "      <td>3a7975e46</td>\n",
              "      <td>bc9cc2a94</td>\n",
              "      <td>NaN</td>\n",
              "      <td>c5361037c</td>\n",
              "      <td>Grandmaster</td>\n",
              "      <td>Cold</td>\n",
              "      <td>h</td>\n",
              "      <td>C</td>\n",
              "      <td>OZ</td>\n",
              "    </tr>\n",
              "  </tbody>\n",
              "</table>\n",
              "</div>"
            ],
            "text/plain": [
              "  bin_3 bin_4 nom_0      nom_1    nom_2       nom_3     nom_4      nom_5  \\\n",
              "0     F     N   Red  Trapezoid  Hamster      Russia   Bassoon  de4c57ee2   \n",
              "1     F     Y   Red       Star  Axolotl         NaN  Theremin  2bb3c3e5c   \n",
              "2     F     N   Red        NaN  Hamster      Canada   Bassoon  b574c9841   \n",
              "3     F     N   Red     Circle  Hamster     Finland  Theremin  673bdf1f6   \n",
              "4     T     N   Red   Triangle  Hamster  Costa Rica       NaN  777d1ac2c   \n",
              "\n",
              "       nom_6      nom_7      nom_8      nom_9        ord_1     ord_2 ord_3  \\\n",
              "0  a64bc7ddf  598080a91  0256c7a4b  02e7c8990  Contributor       Hot     c   \n",
              "1  3a3a936e8  1dddb8473  52ead350c  f37df64af  Grandmaster      Warm     e   \n",
              "2  708248125  5ddc9a726  745b909d1        NaN          NaN  Freezing     n   \n",
              "3  23edb8da3  3a33ef960  bdaa56dd1  f9d456e57       Novice  Lava Hot     a   \n",
              "4  3a7975e46  bc9cc2a94        NaN  c5361037c  Grandmaster      Cold     h   \n",
              "\n",
              "  ord_4 ord_5  \n",
              "0     U    Pw  \n",
              "1     X    pE  \n",
              "2     P    eN  \n",
              "3     C   NaN  \n",
              "4     C    OZ  "
            ]
          },
          "metadata": {
            "tags": []
          },
          "execution_count": 407
        }
      ]
    },
    {
      "cell_type": "markdown",
      "metadata": {
        "id": "cKwoo3cOwKS4",
        "colab_type": "text"
      },
      "source": [
        "# *Fulfilling binary category variable* "
      ]
    },
    {
      "cell_type": "code",
      "metadata": {
        "id": "JfjLxgCdKFPA",
        "colab_type": "code",
        "outputId": "a46a7644-65af-47d4-c417-b02d382f8dc3",
        "colab": {
          "base_uri": "https://localhost:8080/",
          "height": 124
        }
      },
      "source": [
        "df[[\"bin_0\",\t\"bin_1\", \t\"bin_2\", \"bin_3\",\t\"bin_4\"]].isnull().sum()"
      ],
      "execution_count": 408,
      "outputs": [
        {
          "output_type": "execute_result",
          "data": {
            "text/plain": [
              "bin_0    17894\n",
              "bin_1    18003\n",
              "bin_2    17930\n",
              "bin_3    18014\n",
              "bin_4    18047\n",
              "dtype: int64"
            ]
          },
          "metadata": {
            "tags": []
          },
          "execution_count": 408
        }
      ]
    },
    {
      "cell_type": "code",
      "metadata": {
        "id": "si5T7fSkKnts",
        "colab_type": "code",
        "colab": {}
      },
      "source": [
        "df[\"bin_0\"] = df[\"bin_0\"].fillna(df[\"bin_0\"].value_counts().index[0])"
      ],
      "execution_count": 0,
      "outputs": []
    },
    {
      "cell_type": "code",
      "metadata": {
        "id": "6qkkstULLT8q",
        "colab_type": "code",
        "colab": {}
      },
      "source": [
        "df[\"bin_1\"] = df[\"bin_1\"].fillna(df[\"bin_1\"].value_counts().index[0])"
      ],
      "execution_count": 0,
      "outputs": []
    },
    {
      "cell_type": "code",
      "metadata": {
        "id": "u_ToXc0FLb4t",
        "colab_type": "code",
        "colab": {}
      },
      "source": [
        "df[\"bin_2\"] = df[\"bin_2\"].fillna(df[\"bin_2\"].value_counts().index[0])"
      ],
      "execution_count": 0,
      "outputs": []
    },
    {
      "cell_type": "code",
      "metadata": {
        "id": "XxmLzxw8MkGJ",
        "colab_type": "code",
        "colab": {}
      },
      "source": [
        "df[\"bin_3\"] = df[\"bin_3\"].fillna(df[\"bin_3\"].value_counts().index[0])"
      ],
      "execution_count": 0,
      "outputs": []
    },
    {
      "cell_type": "code",
      "metadata": {
        "id": "4Qv6KWVNM0GA",
        "colab_type": "code",
        "colab": {}
      },
      "source": [
        "df[\"bin_4\"] = df[\"bin_4\"].fillna(df[\"bin_4\"].value_counts().index[0])"
      ],
      "execution_count": 0,
      "outputs": []
    },
    {
      "cell_type": "code",
      "metadata": {
        "id": "TA1iRjDVN1u-",
        "colab_type": "code",
        "colab": {}
      },
      "source": [
        "df['bin_3'] = df['bin_3'].replace({'T':1, 'F':0})\n",
        "df['bin_4'] = df['bin_4'].replace({'Y':1, 'N':0})"
      ],
      "execution_count": 0,
      "outputs": []
    },
    {
      "cell_type": "markdown",
      "metadata": {
        "id": "qyiHojWEwwOO",
        "colab_type": "text"
      },
      "source": [
        "# **Dealing with null ordinal category variable**"
      ]
    },
    {
      "cell_type": "code",
      "metadata": {
        "id": "exO8bQ3uPHU-",
        "colab_type": "code",
        "outputId": "2f250564-95ec-4450-a421-8e959c3b7c75",
        "colab": {
          "base_uri": "https://localhost:8080/",
          "height": 142
        }
      },
      "source": [
        "df[['ord_0', 'ord_1', 'ord_2', 'ord_3', 'ord_4', 'ord_5']].isnull().sum()"
      ],
      "execution_count": 415,
      "outputs": [
        {
          "output_type": "execute_result",
          "data": {
            "text/plain": [
              "ord_0    18288\n",
              "ord_1    18041\n",
              "ord_2    18075\n",
              "ord_3    17916\n",
              "ord_4    17930\n",
              "ord_5    17713\n",
              "dtype: int64"
            ]
          },
          "metadata": {
            "tags": []
          },
          "execution_count": 415
        }
      ]
    },
    {
      "cell_type": "code",
      "metadata": {
        "id": "5ArH-M7HSqpb",
        "colab_type": "code",
        "outputId": "1f338433-c6d0-4d9f-b44c-f3528348c20b",
        "colab": {
          "base_uri": "https://localhost:8080/",
          "height": 88
        }
      },
      "source": [
        "df['ord_0'].value_counts()"
      ],
      "execution_count": 416,
      "outputs": [
        {
          "output_type": "execute_result",
          "data": {
            "text/plain": [
              "1.0    227917\n",
              "3.0    197798\n",
              "2.0    155997\n",
              "Name: ord_0, dtype: int64"
            ]
          },
          "metadata": {
            "tags": []
          },
          "execution_count": 416
        }
      ]
    },
    {
      "cell_type": "code",
      "metadata": {
        "id": "JQ0MobuRP2T6",
        "colab_type": "code",
        "outputId": "df944445-1192-4d3f-b942-dec3ffc27c9e",
        "colab": {
          "base_uri": "https://localhost:8080/",
          "height": 124
        }
      },
      "source": [
        "df['ord_1'].value_counts()"
      ],
      "execution_count": 417,
      "outputs": [
        {
          "output_type": "execute_result",
          "data": {
            "text/plain": [
              "Novice         160597\n",
              "Expert         139677\n",
              "Contributor    109821\n",
              "Grandmaster     95866\n",
              "Master          75998\n",
              "Name: ord_1, dtype: int64"
            ]
          },
          "metadata": {
            "tags": []
          },
          "execution_count": 417
        }
      ]
    },
    {
      "cell_type": "code",
      "metadata": {
        "id": "iMPGq2bzTSZd",
        "colab_type": "code",
        "outputId": "7c29f243-0e06-4d7c-c9ff-eb6b1408ed69",
        "colab": {
          "base_uri": "https://localhost:8080/",
          "height": 142
        }
      },
      "source": [
        "df['ord_2'].value_counts()"
      ],
      "execution_count": 418,
      "outputs": [
        {
          "output_type": "execute_result",
          "data": {
            "text/plain": [
              "Freezing       142726\n",
              "Warm           124239\n",
              "Cold            97822\n",
              "Boiling Hot     84790\n",
              "Hot             67508\n",
              "Lava Hot        64840\n",
              "Name: ord_2, dtype: int64"
            ]
          },
          "metadata": {
            "tags": []
          },
          "execution_count": 418
        }
      ]
    },
    {
      "cell_type": "code",
      "metadata": {
        "id": "jR-wNNXmTX-x",
        "colab_type": "code",
        "outputId": "cc51f6ff-a787-4dd4-b434-2c7fa318e40c",
        "colab": {
          "base_uri": "https://localhost:8080/",
          "height": 303
        }
      },
      "source": [
        "df['ord_3'].value_counts()"
      ],
      "execution_count": 419,
      "outputs": [
        {
          "output_type": "execute_result",
          "data": {
            "text/plain": [
              "n    70982\n",
              "a    65321\n",
              "m    57980\n",
              "c    56675\n",
              "h    55744\n",
              "o    45464\n",
              "b    44795\n",
              "e    38904\n",
              "k    38718\n",
              "i    34763\n",
              "d    30634\n",
              "f    29450\n",
              "g     6180\n",
              "j     3639\n",
              "l     2835\n",
              "Name: ord_3, dtype: int64"
            ]
          },
          "metadata": {
            "tags": []
          },
          "execution_count": 419
        }
      ]
    },
    {
      "cell_type": "code",
      "metadata": {
        "id": "6ugjuU4bTZhJ",
        "colab_type": "code",
        "outputId": "6f8c53f0-040b-4331-ddb5-0666a179debe",
        "colab": {
          "base_uri": "https://localhost:8080/",
          "height": 499
        }
      },
      "source": [
        "df['ord_4'].value_counts()"
      ],
      "execution_count": 420,
      "outputs": [
        {
          "output_type": "execute_result",
          "data": {
            "text/plain": [
              "N    39978\n",
              "P    37890\n",
              "Y    36657\n",
              "A    36633\n",
              "R    33045\n",
              "U    32897\n",
              "M    32504\n",
              "X    32347\n",
              "C    32112\n",
              "H    31189\n",
              "Q    30145\n",
              "T    29723\n",
              "O    25610\n",
              "B    25212\n",
              "E    21871\n",
              "K    21676\n",
              "I    19805\n",
              "D    17284\n",
              "F    16721\n",
              "W     8268\n",
              "Z     5790\n",
              "S     4595\n",
              "G     3404\n",
              "V     3107\n",
              "J     1950\n",
              "L     1657\n",
              "Name: ord_4, dtype: int64"
            ]
          },
          "metadata": {
            "tags": []
          },
          "execution_count": 420
        }
      ]
    },
    {
      "cell_type": "code",
      "metadata": {
        "id": "-4yic3-mTcA3",
        "colab_type": "code",
        "outputId": "05d7eb0b-e64c-4c32-d6d8-27427ada7367",
        "colab": {
          "base_uri": "https://localhost:8080/",
          "height": 231
        }
      },
      "source": [
        "df['ord_5'].value_counts()"
      ],
      "execution_count": 421,
      "outputs": [
        {
          "output_type": "execute_result",
          "data": {
            "text/plain": [
              "Fl    10562\n",
              "DN     9527\n",
              "Sz     8654\n",
              "RV     5648\n",
              "oJ     5596\n",
              "      ...  \n",
              "vw      189\n",
              "gV      124\n",
              "vQ      120\n",
              "eA       91\n",
              "Zv       87\n",
              "Name: ord_5, Length: 190, dtype: int64"
            ]
          },
          "metadata": {
            "tags": []
          },
          "execution_count": 421
        }
      ]
    },
    {
      "cell_type": "code",
      "metadata": {
        "id": "JeS4IOv3S3Ws",
        "colab_type": "code",
        "colab": {}
      },
      "source": [
        "df[\"ord_0\"] = df[\"ord_0\"].fillna(df[\"ord_0\"].value_counts().index[0])"
      ],
      "execution_count": 0,
      "outputs": []
    },
    {
      "cell_type": "code",
      "metadata": {
        "id": "BHzzVE6ySNcp",
        "colab_type": "code",
        "colab": {}
      },
      "source": [
        "df[\"ord_1\"] = df[\"ord_1\"].fillna(df[\"ord_1\"].value_counts().index[0])"
      ],
      "execution_count": 0,
      "outputs": []
    },
    {
      "cell_type": "code",
      "metadata": {
        "id": "4L8wDTfhTip_",
        "colab_type": "code",
        "colab": {}
      },
      "source": [
        "df[\"ord_2\"] = df[\"ord_2\"].fillna(df[\"ord_2\"].value_counts().index[0])"
      ],
      "execution_count": 0,
      "outputs": []
    },
    {
      "cell_type": "code",
      "metadata": {
        "id": "avHARmPPT8IE",
        "colab_type": "code",
        "colab": {}
      },
      "source": [
        "df[\"ord_3\"] = df[\"ord_3\"].fillna(df[\"ord_3\"].value_counts().index[0])"
      ],
      "execution_count": 0,
      "outputs": []
    },
    {
      "cell_type": "code",
      "metadata": {
        "id": "qJYAs-B9T-tZ",
        "colab_type": "code",
        "colab": {}
      },
      "source": [
        "df[\"ord_4\"] = df[\"ord_4\"].fillna(df[\"ord_4\"].value_counts().index[0])"
      ],
      "execution_count": 0,
      "outputs": []
    },
    {
      "cell_type": "code",
      "metadata": {
        "id": "zr0DcONSUBfo",
        "colab_type": "code",
        "colab": {}
      },
      "source": [
        "df[\"ord_5\"] = df[\"ord_5\"].fillna(df[\"ord_5\"].value_counts().index[0])"
      ],
      "execution_count": 0,
      "outputs": []
    },
    {
      "cell_type": "code",
      "metadata": {
        "id": "0kYmy3S0UFuw",
        "colab_type": "code",
        "outputId": "154d7f3b-2185-437c-f617-cb93f2295556",
        "colab": {
          "base_uri": "https://localhost:8080/",
          "height": 142
        }
      },
      "source": [
        "df[['ord_0', 'ord_1', 'ord_2', 'ord_3', 'ord_4', 'ord_5']].isnull().sum()"
      ],
      "execution_count": 428,
      "outputs": [
        {
          "output_type": "execute_result",
          "data": {
            "text/plain": [
              "ord_0    0\n",
              "ord_1    0\n",
              "ord_2    0\n",
              "ord_3    0\n",
              "ord_4    0\n",
              "ord_5    0\n",
              "dtype: int64"
            ]
          },
          "metadata": {
            "tags": []
          },
          "execution_count": 428
        }
      ]
    },
    {
      "cell_type": "code",
      "metadata": {
        "id": "8ewKT9JhWN5E",
        "colab_type": "code",
        "colab": {}
      },
      "source": [
        "ord_1 = {\"Novice\":1,\"Expert\":3,\"Contributor\":2,\"Grandmaster\":5,\"Master\":4}\n",
        "# apply using map\n",
        "df['ord_1'] = df.ord_1.map(ord_1)"
      ],
      "execution_count": 0,
      "outputs": []
    },
    {
      "cell_type": "code",
      "metadata": {
        "id": "LiV8h-itUJ2r",
        "colab_type": "code",
        "colab": {}
      },
      "source": [
        "# create dictionary of ordinal to integer mapping\n",
        "ord_2 = {'Freezing':1, \n",
        "            'Cold':2, \n",
        "            'Warm':3, \n",
        "            'Hot':4, \n",
        "            'Boiling Hot':5, \n",
        "            'Lava Hot':6}\n",
        "# apply using map\n",
        "df['ord_2'] = df.ord_2.map(ord_2)"
      ],
      "execution_count": 0,
      "outputs": []
    },
    {
      "cell_type": "code",
      "metadata": {
        "id": "9mLc-8lm8Fml",
        "colab_type": "code",
        "colab": {}
      },
      "source": [
        "#\n",
        "ord_3 = {'a':1, 'b':2, 'c':3, 'd':4, 'e':5, 'f':6, 'g':7,'h':8, 'i':9, 'j':10, 'k':11, 'l':12, 'm':13, 'n':14, 'o':15}\n",
        "df['ord_3'] = df.ord_3.map(ord_3)"
      ],
      "execution_count": 0,
      "outputs": []
    },
    {
      "cell_type": "code",
      "metadata": {
        "id": "9kY8AZKDwvMz",
        "colab_type": "code",
        "colab": {}
      },
      "source": [
        "L = ['A', 'B', 'C', 'D', 'E', 'F', 'G', 'H', 'I','J', 'K', 'L', 'M', 'N', 'O','P', 'Q', 'R','S', 'T', 'U', 'V', 'W', 'X', 'Y', 'Z']\n",
        "ord_4_ = {}\n",
        "for i , val in enumerate(L):\n",
        "  ord_4 = {val:i}\n",
        "  ord_4_.update(ord_4)\n",
        "#print(ord_4_)\n",
        "df['ord_4'] = df.ord_4.map(ord_4_)"
      ],
      "execution_count": 0,
      "outputs": []
    },
    {
      "cell_type": "code",
      "metadata": {
        "id": "QrgM38Kb2bt5",
        "colab_type": "code",
        "outputId": "04c96846-887e-477d-d221-e79b3c4f24ff",
        "colab": {
          "base_uri": "https://localhost:8080/",
          "height": 213
        }
      },
      "source": [
        "fe = df['ord_5'].value_counts(ascending=True)/len(df)  #count the relative frequency\n",
        "df['ord_5_'] = df['ord_5'].map(fe) #map with fe\n",
        "df.drop('ord_5',axis=1,inplace=True)\n",
        "df[\"ord_5_\"].head(10)"
      ],
      "execution_count": 433,
      "outputs": [
        {
          "output_type": "execute_result",
          "data": {
            "text/plain": [
              "0    0.007613\n",
              "1    0.007155\n",
              "2    0.005150\n",
              "3    0.047125\n",
              "4    0.007608\n",
              "5    0.007362\n",
              "6    0.007395\n",
              "7    0.009078\n",
              "8    0.002170\n",
              "9    0.007608\n",
              "Name: ord_5_, dtype: float64"
            ]
          },
          "metadata": {
            "tags": []
          },
          "execution_count": 433
        }
      ]
    },
    {
      "cell_type": "code",
      "metadata": {
        "id": "S8OfwV212YwO",
        "colab_type": "code",
        "outputId": "7d5cc6fb-cd4c-4b32-f069-211694080038",
        "colab": {
          "base_uri": "https://localhost:8080/",
          "height": 55
        }
      },
      "source": [
        "'''fe = df['ord_3'].value_counts(ascending=True)/len(df)  #count the relative frequency\n",
        "df['ord_3_'] = df['ord_3'].map(fe) #map with fe\n",
        "df.drop('ord_3',axis=1,inplace=True)\n",
        "df[\"ord_3_\"].head(10)'''"
      ],
      "execution_count": 434,
      "outputs": [
        {
          "output_type": "execute_result",
          "data": {
            "text/plain": [
              "'fe = df[\\'ord_3\\'].value_counts(ascending=True)/len(df)  #count the relative frequency\\ndf[\\'ord_3_\\'] = df[\\'ord_3\\'].map(fe) #map with fe\\ndf.drop(\\'ord_3\\',axis=1,inplace=True)\\ndf[\"ord_3_\"].head(10)'"
            ]
          },
          "metadata": {
            "tags": []
          },
          "execution_count": 434
        }
      ]
    },
    {
      "cell_type": "code",
      "metadata": {
        "id": "zff6AdcY2aOV",
        "colab_type": "code",
        "outputId": "3e2453a1-4166-406b-dd19-fbde43db3298",
        "colab": {
          "base_uri": "https://localhost:8080/",
          "height": 55
        }
      },
      "source": [
        "'''fe = df['ord_4'].value_counts(ascending=True)/len(df)  #count the relative frequency\n",
        "df['ord_4_'] = df['ord_4'].map(fe) #map with fe\n",
        "df.drop('ord_4',axis=1,inplace=True)\n",
        "df[\"ord_4_\"].head(10)'''"
      ],
      "execution_count": 435,
      "outputs": [
        {
          "output_type": "execute_result",
          "data": {
            "text/plain": [
              "'fe = df[\\'ord_4\\'].value_counts(ascending=True)/len(df)  #count the relative frequency\\ndf[\\'ord_4_\\'] = df[\\'ord_4\\'].map(fe) #map with fe\\ndf.drop(\\'ord_4\\',axis=1,inplace=True)\\ndf[\"ord_4_\"].head(10)'"
            ]
          },
          "metadata": {
            "tags": []
          },
          "execution_count": 435
        }
      ]
    },
    {
      "cell_type": "code",
      "metadata": {
        "id": "YWlQOfZQYsc-",
        "colab_type": "code",
        "colab": {}
      },
      "source": [
        "#df['Levels']= [\"Novice\",\"Expert\",\"Contributor\",\"Grandmaster\",\"Master\"]"
      ],
      "execution_count": 0,
      "outputs": []
    },
    {
      "cell_type": "code",
      "metadata": {
        "id": "-0DdPcvxUvra",
        "colab_type": "code",
        "outputId": "cce121ad-e98c-4063-d2af-cf62be03178f",
        "colab": {
          "base_uri": "https://localhost:8080/",
          "height": 55
        }
      },
      "source": [
        "'''import category_encoders as ce #create instance of category_encoders\n",
        "encoder = ce.BinaryEncoder(cols= [\"Novice\",\n",
        "\"Expert\",\n",
        "\"Contributor\",\n",
        "\"Grandmaster\",\n",
        "\"Master\"\n",
        "])        #create instance of binary enocder\n",
        "df_t = encoder.fit_transform(c_col)\n",
        "df_t.head(5) '''"
      ],
      "execution_count": 437,
      "outputs": [
        {
          "output_type": "execute_result",
          "data": {
            "text/plain": [
              "'import category_encoders as ce #create instance of category_encoders\\nencoder = ce.BinaryEncoder(cols= [\"Novice\",\\n\"Expert\",\\n\"Contributor\",\\n\"Grandmaster\",\\n\"Master\"\\n])        #create instance of binary enocder\\ndf_t = encoder.fit_transform(c_col)\\ndf_t.head(5) '"
            ]
          },
          "metadata": {
            "tags": []
          },
          "execution_count": 437
        }
      ]
    },
    {
      "cell_type": "code",
      "metadata": {
        "id": "E-Z2qwWbeiCY",
        "colab_type": "code",
        "colab": {
          "base_uri": "https://localhost:8080/",
          "height": 55
        },
        "outputId": "a5015dbc-9b28-46d1-cd9a-fea583d079b8"
      },
      "source": [
        " '''df_encoded.ord_2.replace(to_replace = ['Freezing', 'Cold', 'Warm', 'Hot','Boiling Hot', 'Lava Hot'],\n",
        "                         value = [0, 1, 2, 3, 4, 5], inplace = True)\n",
        "\n",
        "    df_encoded.ord_3.replace(to_replace = ['a', 'b', 'c', 'd', 'e', 'f', 'g','h', 'i', 'j', 'k', 'l', 'm', 'n', 'o'],\n",
        "                         value = [0, 1, 2, 3, 4, 5, 6, 7, 8, 9, 10, 11, 12, 13, 14], inplace = True)\n",
        "\n",
        "    df_encoded.ord_4.replace(to_replace = ,\n",
        "                         value = [0, 1, 2, 3, 4, 5, 6, 7, 8, 9, 10, 11, 12, 13, 14, 15, 16, 17, 18, 19, 20, 21, \n",
        "                                  22, 23, 24, 25], inplace = True)'''"
      ],
      "execution_count": 438,
      "outputs": [
        {
          "output_type": "execute_result",
          "data": {
            "text/plain": [
              "\"df_encoded.ord_2.replace(to_replace = ['Freezing', 'Cold', 'Warm', 'Hot','Boiling Hot', 'Lava Hot'],\\n                        value = [0, 1, 2, 3, 4, 5], inplace = True)\\n\\n   df_encoded.ord_3.replace(to_replace = ['a', 'b', 'c', 'd', 'e', 'f', 'g','h', 'i', 'j', 'k', 'l', 'm', 'n', 'o'],\\n                        value = [0, 1, 2, 3, 4, 5, 6, 7, 8, 9, 10, 11, 12, 13, 14], inplace = True)\\n\\n   df_encoded.ord_4.replace(to_replace = ,\\n                        value = [0, 1, 2, 3, 4, 5, 6, 7, 8, 9, 10, 11, 12, 13, 14, 15, 16, 17, 18, 19, 20, 21, \\n                                 22, 23, 24, 25], inplace = True)\""
            ]
          },
          "metadata": {
            "tags": []
          },
          "execution_count": 438
        }
      ]
    },
    {
      "cell_type": "markdown",
      "metadata": {
        "id": "N49AD_9Jx3w3",
        "colab_type": "text"
      },
      "source": [
        "# **Dealing with null value of day and months**"
      ]
    },
    {
      "cell_type": "code",
      "metadata": {
        "id": "aLnYT-P2bwJU",
        "colab_type": "code",
        "outputId": "02daf89f-dddd-449e-a732-3377c065496b",
        "colab": {
          "base_uri": "https://localhost:8080/",
          "height": 35
        }
      },
      "source": [
        "df[\"day\"].isnull().sum()"
      ],
      "execution_count": 439,
      "outputs": [
        {
          "output_type": "execute_result",
          "data": {
            "text/plain": [
              "17952"
            ]
          },
          "metadata": {
            "tags": []
          },
          "execution_count": 439
        }
      ]
    },
    {
      "cell_type": "code",
      "metadata": {
        "id": "Z-eYnBhgdaYX",
        "colab_type": "code",
        "outputId": "210d816a-9855-4202-9798-d4f72c83c161",
        "colab": {
          "base_uri": "https://localhost:8080/",
          "height": 160
        }
      },
      "source": [
        "df[\"day\"].value_counts()"
      ],
      "execution_count": 440,
      "outputs": [
        {
          "output_type": "execute_result",
          "data": {
            "text/plain": [
              "3.0    113835\n",
              "5.0    110464\n",
              "6.0     97432\n",
              "7.0     86435\n",
              "1.0     84724\n",
              "2.0     65495\n",
              "4.0     23663\n",
              "Name: day, dtype: int64"
            ]
          },
          "metadata": {
            "tags": []
          },
          "execution_count": 440
        }
      ]
    },
    {
      "cell_type": "code",
      "metadata": {
        "id": "LAghqnTi4OIu",
        "colab_type": "code",
        "outputId": "acc0cb76-9d7c-43e2-f3d1-9b003e70b136",
        "colab": {
          "base_uri": "https://localhost:8080/",
          "height": 35
        }
      },
      "source": [
        "df[\"month\"].isnull().sum()"
      ],
      "execution_count": 441,
      "outputs": [
        {
          "output_type": "execute_result",
          "data": {
            "text/plain": [
              "17988"
            ]
          },
          "metadata": {
            "tags": []
          },
          "execution_count": 441
        }
      ]
    },
    {
      "cell_type": "code",
      "metadata": {
        "id": "MmJZNWfwgx_l",
        "colab_type": "code",
        "outputId": "c39d7256-fb41-4872-a634-330c81ac8910",
        "colab": {
          "base_uri": "https://localhost:8080/",
          "height": 249
        }
      },
      "source": [
        "df[\"month\"].value_counts()"
      ],
      "execution_count": 442,
      "outputs": [
        {
          "output_type": "execute_result",
          "data": {
            "text/plain": [
              "8.0     79245\n",
              "3.0     70160\n",
              "5.0     68906\n",
              "12.0    68340\n",
              "6.0     60478\n",
              "7.0     53480\n",
              "1.0     52154\n",
              "11.0    51165\n",
              "2.0     40700\n",
              "9.0     20620\n",
              "4.0     14614\n",
              "10.0     2150\n",
              "Name: month, dtype: int64"
            ]
          },
          "metadata": {
            "tags": []
          },
          "execution_count": 442
        }
      ]
    },
    {
      "cell_type": "code",
      "metadata": {
        "id": "HJcvzA0vff3w",
        "colab_type": "code",
        "colab": {}
      },
      "source": [
        "df[\"day\"] = df[\"day\"].fillna(df[\"day\"].value_counts().index[0])\n"
      ],
      "execution_count": 0,
      "outputs": []
    },
    {
      "cell_type": "code",
      "metadata": {
        "id": "cdyDwu-Ul9Fa",
        "colab_type": "code",
        "colab": {}
      },
      "source": [
        "df[\"month\"] = df[\"month\"].fillna(df[\"month\"].value_counts().index[0])"
      ],
      "execution_count": 0,
      "outputs": []
    },
    {
      "cell_type": "markdown",
      "metadata": {
        "id": "yzJyDvVmymx4",
        "colab_type": "text"
      },
      "source": [
        "# **Dealing with Normail Variable**"
      ]
    },
    {
      "cell_type": "code",
      "metadata": {
        "id": "pWjaIJ-am7wf",
        "colab_type": "code",
        "outputId": "40fbc6c4-dff3-4f03-84e9-ae75613c0628",
        "colab": {
          "base_uri": "https://localhost:8080/",
          "height": 88
        }
      },
      "source": [
        "df[\"nom_0\"].value_counts()"
      ],
      "execution_count": 445,
      "outputs": [
        {
          "output_type": "execute_result",
          "data": {
            "text/plain": [
              "Red      323286\n",
              "Blue     205861\n",
              "Green     52601\n",
              "Name: nom_0, dtype: int64"
            ]
          },
          "metadata": {
            "tags": []
          },
          "execution_count": 445
        }
      ]
    },
    {
      "cell_type": "code",
      "metadata": {
        "id": "khIIgm8NmBt7",
        "colab_type": "code",
        "outputId": "a3881d9a-12ac-4d7e-fe35-d799e2fb52c4",
        "colab": {
          "base_uri": "https://localhost:8080/",
          "height": 142
        }
      },
      "source": [
        "df[\"nom_1\"].value_counts()"
      ],
      "execution_count": 446,
      "outputs": [
        {
          "output_type": "execute_result",
          "data": {
            "text/plain": [
              "Triangle     164190\n",
              "Polygon      152563\n",
              "Trapezoid    119438\n",
              "Circle       104995\n",
              "Square        26503\n",
              "Star          14155\n",
              "Name: nom_1, dtype: int64"
            ]
          },
          "metadata": {
            "tags": []
          },
          "execution_count": 446
        }
      ]
    },
    {
      "cell_type": "code",
      "metadata": {
        "id": "ubfKg6nXnG6m",
        "colab_type": "code",
        "outputId": "5155a071-3645-4b83-8b4f-e373707b02ff",
        "colab": {
          "base_uri": "https://localhost:8080/",
          "height": 142
        }
      },
      "source": [
        "df[\"nom_2\"].value_counts()"
      ],
      "execution_count": 447,
      "outputs": [
        {
          "output_type": "execute_result",
          "data": {
            "text/plain": [
              "Hamster    164897\n",
              "Axolotl    152319\n",
              "Lion       119504\n",
              "Dog        104825\n",
              "Cat         26276\n",
              "Snake       14144\n",
              "Name: nom_2, dtype: int64"
            ]
          },
          "metadata": {
            "tags": []
          },
          "execution_count": 447
        }
      ]
    },
    {
      "cell_type": "code",
      "metadata": {
        "id": "uv_LESkinJ0T",
        "colab_type": "code",
        "outputId": "99be0be2-a6d9-444e-8276-e8606a6eeacb",
        "colab": {
          "base_uri": "https://localhost:8080/",
          "height": 142
        }
      },
      "source": [
        "df[\"nom_3\"].value_counts()"
      ],
      "execution_count": 448,
      "outputs": [
        {
          "output_type": "execute_result",
          "data": {
            "text/plain": [
              "India         164869\n",
              "Costa Rica    151827\n",
              "Russia        119840\n",
              "Finland       104601\n",
              "Canada         26425\n",
              "China          14317\n",
              "Name: nom_3, dtype: int64"
            ]
          },
          "metadata": {
            "tags": []
          },
          "execution_count": 448
        }
      ]
    },
    {
      "cell_type": "code",
      "metadata": {
        "id": "MYms1Q8PnOCF",
        "colab_type": "code",
        "outputId": "756b76fb-d9bf-44e9-eca2-b402559a4ae2",
        "colab": {
          "base_uri": "https://localhost:8080/",
          "height": 106
        }
      },
      "source": [
        "df[\"nom_4\"].value_counts()"
      ],
      "execution_count": 449,
      "outputs": [
        {
          "output_type": "execute_result",
          "data": {
            "text/plain": [
              "Theremin    308621\n",
              "Bassoon     196639\n",
              "Oboe         49996\n",
              "Piano        26709\n",
              "Name: nom_4, dtype: int64"
            ]
          },
          "metadata": {
            "tags": []
          },
          "execution_count": 449
        }
      ]
    },
    {
      "cell_type": "code",
      "metadata": {
        "id": "hB9MgdPsnUUv",
        "colab_type": "code",
        "outputId": "3eb50693-a468-4a99-b999-91d5f22740ed",
        "colab": {
          "base_uri": "https://localhost:8080/",
          "height": 231
        }
      },
      "source": [
        "df[\"nom_5\"].value_counts()"
      ],
      "execution_count": 450,
      "outputs": [
        {
          "output_type": "execute_result",
          "data": {
            "text/plain": [
              "fc8fc7e56    977\n",
              "360a16627    972\n",
              "423976253    961\n",
              "7917d446c    961\n",
              "879c2ed83    960\n",
              "            ... \n",
              "7335087fd      5\n",
              "30019ce8a      3\n",
              "0385d0739      1\n",
              "d6bb2181a      1\n",
              "b3ad70fcb      1\n",
              "Name: nom_5, Length: 1220, dtype: int64"
            ]
          },
          "metadata": {
            "tags": []
          },
          "execution_count": 450
        }
      ]
    },
    {
      "cell_type": "code",
      "metadata": {
        "id": "Lp21ZDU1iuuK",
        "colab_type": "code",
        "colab": {}
      },
      "source": [
        "df[\"nom_1\"]= df[\"nom_1\"].fillna(df[\"nom_1\"].value_counts().index[0])"
      ],
      "execution_count": 0,
      "outputs": []
    },
    {
      "cell_type": "code",
      "metadata": {
        "id": "qwiTYNosjOQ1",
        "colab_type": "code",
        "colab": {}
      },
      "source": [
        "df[\"nom_2\"]= df[\"nom_2\"].fillna(df[\"nom_2\"].value_counts().index[0])"
      ],
      "execution_count": 0,
      "outputs": []
    },
    {
      "cell_type": "code",
      "metadata": {
        "id": "u8osr1fmjQni",
        "colab_type": "code",
        "colab": {}
      },
      "source": [
        "df[\"nom_3\"]= df[\"nom_3\"].fillna(df[\"nom_3\"].value_counts().index[0])"
      ],
      "execution_count": 0,
      "outputs": []
    },
    {
      "cell_type": "code",
      "metadata": {
        "id": "3M7Esmqgjl2V",
        "colab_type": "code",
        "colab": {}
      },
      "source": [
        "df[\"nom_4\"]= df[\"nom_4\"].fillna(df[\"nom_4\"].value_counts().index[0])"
      ],
      "execution_count": 0,
      "outputs": []
    },
    {
      "cell_type": "code",
      "metadata": {
        "id": "qhLZi3Q9Gh8-",
        "colab_type": "code",
        "colab": {}
      },
      "source": [
        "df[\"nom_5\"]= df[\"nom_5\"].fillna(df[\"nom_5\"].value_counts().index[0])"
      ],
      "execution_count": 0,
      "outputs": []
    },
    {
      "cell_type": "code",
      "metadata": {
        "id": "T5iYtVdpGixe",
        "colab_type": "code",
        "colab": {}
      },
      "source": [
        "df[\"nom_6\"]= df[\"nom_6\"].fillna(df[\"nom_6\"].value_counts().index[0])"
      ],
      "execution_count": 0,
      "outputs": []
    },
    {
      "cell_type": "code",
      "metadata": {
        "id": "HL0-jRXiGjA2",
        "colab_type": "code",
        "colab": {}
      },
      "source": [
        "df[\"nom_7\"]= df[\"nom_7\"].fillna(df[\"nom_7\"].value_counts().index[0])"
      ],
      "execution_count": 0,
      "outputs": []
    },
    {
      "cell_type": "code",
      "metadata": {
        "id": "bLixfAeiGjPx",
        "colab_type": "code",
        "colab": {}
      },
      "source": [
        "df[\"nom_8\"]= df[\"nom_8\"].fillna(df[\"nom_8\"].value_counts().index[0])"
      ],
      "execution_count": 0,
      "outputs": []
    },
    {
      "cell_type": "code",
      "metadata": {
        "id": "0Ub2ZNXSGmXB",
        "colab_type": "code",
        "colab": {}
      },
      "source": [
        "df[\"nom_9\"]= df[\"nom_9\"].fillna(df[\"nom_9\"].value_counts().index[0])"
      ],
      "execution_count": 0,
      "outputs": []
    },
    {
      "cell_type": "code",
      "metadata": {
        "id": "RVJe6pPErfn5",
        "colab_type": "code",
        "colab": {}
      },
      "source": [
        "#df = pd.get_dummies(df[\"nom_0\"])\n",
        "df_nom1 = pd.get_dummies(df[\"nom_0\"],drop_first=True)\n",
        "df1 = pd.concat([df, df_nom1] , axis=1)\n",
        "df1 = df1.drop('nom_0' , axis=1)"
      ],
      "execution_count": 0,
      "outputs": []
    },
    {
      "cell_type": "code",
      "metadata": {
        "id": "4WrD0z5rtdhu",
        "colab_type": "code",
        "outputId": "df79e98d-6e02-4a3d-b647-afd2bf4de7ad",
        "colab": {
          "base_uri": "https://localhost:8080/",
          "height": 213
        }
      },
      "source": [
        "fe = df1[\"nom_1\"].value_counts(ascending=True)/len(df1)  #count the relative frequency\n",
        "df1[\"nom_1_\"] = df1[\"nom_1\"].map(fe) #map with fe\n",
        "df1.drop('nom_1',axis=1,inplace=True)\n",
        "df1[\"nom_1_\"].head(10)"
      ],
      "execution_count": 461,
      "outputs": [
        {
          "output_type": "execute_result",
          "data": {
            "text/plain": [
              "0    0.199063\n",
              "1    0.023592\n",
              "2    0.303910\n",
              "3    0.174992\n",
              "4    0.303910\n",
              "5    0.303910\n",
              "6    0.303910\n",
              "7    0.303910\n",
              "8    0.254272\n",
              "9    0.254272\n",
              "Name: nom_1_, dtype: float64"
            ]
          },
          "metadata": {
            "tags": []
          },
          "execution_count": 461
        }
      ]
    },
    {
      "cell_type": "code",
      "metadata": {
        "id": "6XZe1g-oss14",
        "colab_type": "code",
        "outputId": "3e7e92a1-6aec-47ad-a274-93b27757f3d1",
        "colab": {
          "base_uri": "https://localhost:8080/",
          "height": 213
        }
      },
      "source": [
        "fe = df1[\"nom_2\"].value_counts(ascending=True)/len(df1)  #count the relative frequency\n",
        "df1[\"nom_2_\"] = df1[\"nom_2\"].map(fe) #map with fe\n",
        "df1.drop('nom_2',axis=1,inplace=True)\n",
        "df1[\"nom_2_\"].head(10)"
      ],
      "execution_count": 462,
      "outputs": [
        {
          "output_type": "execute_result",
          "data": {
            "text/plain": [
              "0    0.304887\n",
              "1    0.253865\n",
              "2    0.304887\n",
              "3    0.304887\n",
              "4    0.304887\n",
              "5    0.199173\n",
              "6    0.304887\n",
              "7    0.253865\n",
              "8    0.304887\n",
              "9    0.304887\n",
              "Name: nom_2_, dtype: float64"
            ]
          },
          "metadata": {
            "tags": []
          },
          "execution_count": 462
        }
      ]
    },
    {
      "cell_type": "code",
      "metadata": {
        "id": "MTqzImNekteh",
        "colab_type": "code",
        "outputId": "9e52fdf1-3133-4d65-f36c-4f8022d5aa1f",
        "colab": {
          "base_uri": "https://localhost:8080/",
          "height": 213
        }
      },
      "source": [
        "fe = df1[\"nom_3\"].value_counts(ascending=True)/len(df)  #count the relative frequency\n",
        "df1[\"nom_3_\"] = df1[\"nom_3\"].map(fe) #map with fe\n",
        "df1.drop('nom_3',axis=1,inplace=True)\n",
        "df1[\"nom_3_\"].head(10)"
      ],
      "execution_count": 463,
      "outputs": [
        {
          "output_type": "execute_result",
          "data": {
            "text/plain": [
              "0    0.199733\n",
              "1    0.304983\n",
              "2    0.044042\n",
              "3    0.174335\n",
              "4    0.253045\n",
              "5    0.023862\n",
              "6    0.253045\n",
              "7    0.174335\n",
              "8    0.199733\n",
              "9    0.174335\n",
              "Name: nom_3_, dtype: float64"
            ]
          },
          "metadata": {
            "tags": []
          },
          "execution_count": 463
        }
      ]
    },
    {
      "cell_type": "code",
      "metadata": {
        "id": "V_i7zbnPj0DS",
        "colab_type": "code",
        "outputId": "9b5ac64e-777e-415c-ecb5-f4b9f214569c",
        "colab": {
          "base_uri": "https://localhost:8080/",
          "height": 213
        }
      },
      "source": [
        "fe = df1[\"nom_4\"].value_counts(ascending=True)/len(df1)  #count the relative frequency\n",
        "df1[\"nom_4_\"] = df1[\"nom_4\"].map(fe) #map with fe\n",
        "df1.drop('nom_4',axis=1,inplace=True)\n",
        "df1[\"nom_4_\"].head(10)"
      ],
      "execution_count": 464,
      "outputs": [
        {
          "output_type": "execute_result",
          "data": {
            "text/plain": [
              "0    0.327732\n",
              "1    0.544427\n",
              "2    0.327732\n",
              "3    0.544427\n",
              "4    0.544427\n",
              "5    0.327732\n",
              "6    0.327732\n",
              "7    0.327732\n",
              "8    0.083327\n",
              "9    0.544427\n",
              "Name: nom_4_, dtype: float64"
            ]
          },
          "metadata": {
            "tags": []
          },
          "execution_count": 464
        }
      ]
    },
    {
      "cell_type": "code",
      "metadata": {
        "id": "5w0_6Nkt6XXs",
        "colab_type": "code",
        "outputId": "a56485d4-75b6-411f-b151-c8d960703b03",
        "colab": {
          "base_uri": "https://localhost:8080/",
          "height": 213
        }
      },
      "source": [
        "fe = df1[\"nom_5\"].value_counts(ascending=True)/len(df1)  #count the relative frequency\n",
        "df1[\"nom_5_\"] = df1[\"nom_5\"].map(fe) #map with fe\n",
        "df1.drop('nom_5',axis=1,inplace=True)\n",
        "df1[\"nom_5_\"].head(10)"
      ],
      "execution_count": 465,
      "outputs": [
        {
          "output_type": "execute_result",
          "data": {
            "text/plain": [
              "0    0.000683\n",
              "1    0.001230\n",
              "2    0.001195\n",
              "3    0.000997\n",
              "4    0.001373\n",
              "5    0.001493\n",
              "6    0.001543\n",
              "7    0.001405\n",
              "8    0.001308\n",
              "9    0.001448\n",
              "Name: nom_5_, dtype: float64"
            ]
          },
          "metadata": {
            "tags": []
          },
          "execution_count": 465
        }
      ]
    },
    {
      "cell_type": "code",
      "metadata": {
        "id": "7R4tx23MHq97",
        "colab_type": "code",
        "colab": {
          "base_uri": "https://localhost:8080/",
          "height": 213
        },
        "outputId": "5c7555bd-3378-4c1d-fb9a-3dbf40ff9038"
      },
      "source": [
        "fe = df1[\"nom_6\"].value_counts(ascending=True)/len(df1)  #count the relative frequency\n",
        "df1[\"nom_6_\"] = df1[\"nom_6\"].map(fe) #map with fe\n",
        "df1.drop('nom_6',axis=1,inplace=True)\n",
        "df1[\"nom_6_\"].head(10)"
      ],
      "execution_count": 466,
      "outputs": [
        {
          "output_type": "execute_result",
          "data": {
            "text/plain": [
              "0    0.000197\n",
              "1    0.000730\n",
              "2    0.001120\n",
              "3    0.000983\n",
              "4    0.000422\n",
              "5    0.001117\n",
              "6    0.000733\n",
              "7    0.001005\n",
              "8    0.001213\n",
              "9    0.000933\n",
              "Name: nom_6_, dtype: float64"
            ]
          },
          "metadata": {
            "tags": []
          },
          "execution_count": 466
        }
      ]
    },
    {
      "cell_type": "code",
      "metadata": {
        "id": "qNFBYjBHHuZL",
        "colab_type": "code",
        "colab": {
          "base_uri": "https://localhost:8080/",
          "height": 213
        },
        "outputId": "b2f09e51-2361-4f8b-8a83-52400dd95cd8"
      },
      "source": [
        "fe = df1[\"nom_7\"].value_counts(ascending=True)/len(df1)  #count the relative frequency\n",
        "df1[\"nom_7_\"] = df1[\"nom_7\"].map(fe) #map with fe\n",
        "df1.drop('nom_7',axis=1,inplace=True)\n",
        "df1[\"nom_7_\"].head(10)"
      ],
      "execution_count": 467,
      "outputs": [
        {
          "output_type": "execute_result",
          "data": {
            "text/plain": [
              "0    0.003130\n",
              "1    0.007945\n",
              "2    0.005557\n",
              "3    0.005155\n",
              "4    0.007503\n",
              "5    0.002005\n",
              "6    0.003353\n",
              "7    0.007918\n",
              "8    0.008148\n",
              "9    0.004875\n",
              "Name: nom_7_, dtype: float64"
            ]
          },
          "metadata": {
            "tags": []
          },
          "execution_count": 467
        }
      ]
    },
    {
      "cell_type": "code",
      "metadata": {
        "id": "jxnsIKXVHvi9",
        "colab_type": "code",
        "colab": {
          "base_uri": "https://localhost:8080/",
          "height": 213
        },
        "outputId": "e6711f91-adac-4d6c-84f3-666a03f05c47"
      },
      "source": [
        "fe = df1[\"nom_8\"].value_counts(ascending=True)/len(df1)  #count the relative frequency\n",
        "df1[\"nom_8_\"] = df1[\"nom_8\"].map(fe) #map with fe\n",
        "df1.drop('nom_8',axis=1,inplace=True)\n",
        "df1[\"nom_8_\"].head(10)"
      ],
      "execution_count": 468,
      "outputs": [
        {
          "output_type": "execute_result",
          "data": {
            "text/plain": [
              "0    0.002672\n",
              "1    0.004798\n",
              "2    0.007155\n",
              "3    0.003675\n",
              "4    0.038012\n",
              "5    0.007670\n",
              "6    0.004575\n",
              "7    0.004430\n",
              "8    0.002908\n",
              "9    0.000935\n",
              "Name: nom_8_, dtype: float64"
            ]
          },
          "metadata": {
            "tags": []
          },
          "execution_count": 468
        }
      ]
    },
    {
      "cell_type": "code",
      "metadata": {
        "id": "b2DScG9RHwCJ",
        "colab_type": "code",
        "colab": {
          "base_uri": "https://localhost:8080/",
          "height": 213
        },
        "outputId": "c99f2652-b43c-4a38-fbb9-bd5a421d1876"
      },
      "source": [
        "fe = df1[\"nom_9\"].value_counts(ascending=True)/len(df1)  #count the relative frequency\n",
        "df1[\"nom_9_\"] = df1[\"nom_9\"].map(fe) #map with fe\n",
        "df1.drop('nom_9',axis=1,inplace=True)\n",
        "df1[\"nom_9_\"].head(10)"
      ],
      "execution_count": 469,
      "outputs": [
        {
          "output_type": "execute_result",
          "data": {
            "text/plain": [
              "0    0.000345\n",
              "1    0.000883\n",
              "2    0.031063\n",
              "3    0.000248\n",
              "4    0.000933\n",
              "5    0.000668\n",
              "6    0.000785\n",
              "7    0.000577\n",
              "8    0.031063\n",
              "9    0.000755\n",
              "Name: nom_9_, dtype: float64"
            ]
          },
          "metadata": {
            "tags": []
          },
          "execution_count": 469
        }
      ]
    },
    {
      "cell_type": "code",
      "metadata": {
        "id": "l8QzOIr9tfeX",
        "colab_type": "code",
        "outputId": "98a21a97-ca49-433c-a8c2-055c2ee4d1ac",
        "colab": {
          "base_uri": "https://localhost:8080/",
          "height": 218
        }
      },
      "source": [
        "df1.head()"
      ],
      "execution_count": 470,
      "outputs": [
        {
          "output_type": "execute_result",
          "data": {
            "text/html": [
              "<div>\n",
              "<style scoped>\n",
              "    .dataframe tbody tr th:only-of-type {\n",
              "        vertical-align: middle;\n",
              "    }\n",
              "\n",
              "    .dataframe tbody tr th {\n",
              "        vertical-align: top;\n",
              "    }\n",
              "\n",
              "    .dataframe thead th {\n",
              "        text-align: right;\n",
              "    }\n",
              "</style>\n",
              "<table border=\"1\" class=\"dataframe\">\n",
              "  <thead>\n",
              "    <tr style=\"text-align: right;\">\n",
              "      <th></th>\n",
              "      <th>id</th>\n",
              "      <th>bin_0</th>\n",
              "      <th>bin_1</th>\n",
              "      <th>bin_2</th>\n",
              "      <th>bin_3</th>\n",
              "      <th>bin_4</th>\n",
              "      <th>ord_0</th>\n",
              "      <th>ord_1</th>\n",
              "      <th>ord_2</th>\n",
              "      <th>ord_3</th>\n",
              "      <th>ord_4</th>\n",
              "      <th>day</th>\n",
              "      <th>month</th>\n",
              "      <th>target</th>\n",
              "      <th>ord_5_</th>\n",
              "      <th>Green</th>\n",
              "      <th>Red</th>\n",
              "      <th>nom_1_</th>\n",
              "      <th>nom_2_</th>\n",
              "      <th>nom_3_</th>\n",
              "      <th>nom_4_</th>\n",
              "      <th>nom_5_</th>\n",
              "      <th>nom_6_</th>\n",
              "      <th>nom_7_</th>\n",
              "      <th>nom_8_</th>\n",
              "      <th>nom_9_</th>\n",
              "    </tr>\n",
              "  </thead>\n",
              "  <tbody>\n",
              "    <tr>\n",
              "      <th>0</th>\n",
              "      <td>0</td>\n",
              "      <td>0.0</td>\n",
              "      <td>0.0</td>\n",
              "      <td>0.0</td>\n",
              "      <td>0</td>\n",
              "      <td>0</td>\n",
              "      <td>3.0</td>\n",
              "      <td>2</td>\n",
              "      <td>4</td>\n",
              "      <td>3</td>\n",
              "      <td>20</td>\n",
              "      <td>6.0</td>\n",
              "      <td>3.0</td>\n",
              "      <td>0</td>\n",
              "      <td>0.007613</td>\n",
              "      <td>0</td>\n",
              "      <td>1</td>\n",
              "      <td>0.199063</td>\n",
              "      <td>0.304887</td>\n",
              "      <td>0.199733</td>\n",
              "      <td>0.327732</td>\n",
              "      <td>0.000683</td>\n",
              "      <td>0.000197</td>\n",
              "      <td>0.003130</td>\n",
              "      <td>0.002672</td>\n",
              "      <td>0.000345</td>\n",
              "    </tr>\n",
              "    <tr>\n",
              "      <th>1</th>\n",
              "      <td>1</td>\n",
              "      <td>1.0</td>\n",
              "      <td>1.0</td>\n",
              "      <td>0.0</td>\n",
              "      <td>0</td>\n",
              "      <td>1</td>\n",
              "      <td>3.0</td>\n",
              "      <td>5</td>\n",
              "      <td>3</td>\n",
              "      <td>5</td>\n",
              "      <td>23</td>\n",
              "      <td>7.0</td>\n",
              "      <td>7.0</td>\n",
              "      <td>0</td>\n",
              "      <td>0.007155</td>\n",
              "      <td>0</td>\n",
              "      <td>1</td>\n",
              "      <td>0.023592</td>\n",
              "      <td>0.253865</td>\n",
              "      <td>0.304983</td>\n",
              "      <td>0.544427</td>\n",
              "      <td>0.001230</td>\n",
              "      <td>0.000730</td>\n",
              "      <td>0.007945</td>\n",
              "      <td>0.004798</td>\n",
              "      <td>0.000883</td>\n",
              "    </tr>\n",
              "    <tr>\n",
              "      <th>2</th>\n",
              "      <td>2</td>\n",
              "      <td>0.0</td>\n",
              "      <td>1.0</td>\n",
              "      <td>0.0</td>\n",
              "      <td>0</td>\n",
              "      <td>0</td>\n",
              "      <td>3.0</td>\n",
              "      <td>1</td>\n",
              "      <td>1</td>\n",
              "      <td>14</td>\n",
              "      <td>15</td>\n",
              "      <td>5.0</td>\n",
              "      <td>9.0</td>\n",
              "      <td>0</td>\n",
              "      <td>0.005150</td>\n",
              "      <td>0</td>\n",
              "      <td>1</td>\n",
              "      <td>0.303910</td>\n",
              "      <td>0.304887</td>\n",
              "      <td>0.044042</td>\n",
              "      <td>0.327732</td>\n",
              "      <td>0.001195</td>\n",
              "      <td>0.001120</td>\n",
              "      <td>0.005557</td>\n",
              "      <td>0.007155</td>\n",
              "      <td>0.031063</td>\n",
              "    </tr>\n",
              "    <tr>\n",
              "      <th>3</th>\n",
              "      <td>3</td>\n",
              "      <td>0.0</td>\n",
              "      <td>0.0</td>\n",
              "      <td>0.0</td>\n",
              "      <td>0</td>\n",
              "      <td>0</td>\n",
              "      <td>1.0</td>\n",
              "      <td>1</td>\n",
              "      <td>6</td>\n",
              "      <td>1</td>\n",
              "      <td>2</td>\n",
              "      <td>3.0</td>\n",
              "      <td>3.0</td>\n",
              "      <td>0</td>\n",
              "      <td>0.047125</td>\n",
              "      <td>0</td>\n",
              "      <td>1</td>\n",
              "      <td>0.174992</td>\n",
              "      <td>0.304887</td>\n",
              "      <td>0.174335</td>\n",
              "      <td>0.544427</td>\n",
              "      <td>0.000997</td>\n",
              "      <td>0.000983</td>\n",
              "      <td>0.005155</td>\n",
              "      <td>0.003675</td>\n",
              "      <td>0.000248</td>\n",
              "    </tr>\n",
              "    <tr>\n",
              "      <th>4</th>\n",
              "      <td>4</td>\n",
              "      <td>0.0</td>\n",
              "      <td>0.0</td>\n",
              "      <td>0.0</td>\n",
              "      <td>1</td>\n",
              "      <td>0</td>\n",
              "      <td>3.0</td>\n",
              "      <td>5</td>\n",
              "      <td>2</td>\n",
              "      <td>8</td>\n",
              "      <td>2</td>\n",
              "      <td>5.0</td>\n",
              "      <td>12.0</td>\n",
              "      <td>0</td>\n",
              "      <td>0.007608</td>\n",
              "      <td>0</td>\n",
              "      <td>1</td>\n",
              "      <td>0.303910</td>\n",
              "      <td>0.304887</td>\n",
              "      <td>0.253045</td>\n",
              "      <td>0.544427</td>\n",
              "      <td>0.001373</td>\n",
              "      <td>0.000422</td>\n",
              "      <td>0.007503</td>\n",
              "      <td>0.038012</td>\n",
              "      <td>0.000933</td>\n",
              "    </tr>\n",
              "  </tbody>\n",
              "</table>\n",
              "</div>"
            ],
            "text/plain": [
              "   id  bin_0  bin_1  bin_2  bin_3  bin_4  ord_0  ord_1  ord_2  ord_3  ord_4  \\\n",
              "0   0    0.0    0.0    0.0      0      0    3.0      2      4      3     20   \n",
              "1   1    1.0    1.0    0.0      0      1    3.0      5      3      5     23   \n",
              "2   2    0.0    1.0    0.0      0      0    3.0      1      1     14     15   \n",
              "3   3    0.0    0.0    0.0      0      0    1.0      1      6      1      2   \n",
              "4   4    0.0    0.0    0.0      1      0    3.0      5      2      8      2   \n",
              "\n",
              "   day  month  target    ord_5_  Green  Red    nom_1_    nom_2_    nom_3_  \\\n",
              "0  6.0    3.0       0  0.007613      0    1  0.199063  0.304887  0.199733   \n",
              "1  7.0    7.0       0  0.007155      0    1  0.023592  0.253865  0.304983   \n",
              "2  5.0    9.0       0  0.005150      0    1  0.303910  0.304887  0.044042   \n",
              "3  3.0    3.0       0  0.047125      0    1  0.174992  0.304887  0.174335   \n",
              "4  5.0   12.0       0  0.007608      0    1  0.303910  0.304887  0.253045   \n",
              "\n",
              "     nom_4_    nom_5_    nom_6_    nom_7_    nom_8_    nom_9_  \n",
              "0  0.327732  0.000683  0.000197  0.003130  0.002672  0.000345  \n",
              "1  0.544427  0.001230  0.000730  0.007945  0.004798  0.000883  \n",
              "2  0.327732  0.001195  0.001120  0.005557  0.007155  0.031063  \n",
              "3  0.544427  0.000997  0.000983  0.005155  0.003675  0.000248  \n",
              "4  0.544427  0.001373  0.000422  0.007503  0.038012  0.000933  "
            ]
          },
          "metadata": {
            "tags": []
          },
          "execution_count": 470
        }
      ]
    },
    {
      "cell_type": "code",
      "metadata": {
        "id": "yz85o82O8ugt",
        "colab_type": "code",
        "colab": {}
      },
      "source": [
        ""
      ],
      "execution_count": 0,
      "outputs": []
    },
    {
      "cell_type": "markdown",
      "metadata": {
        "id": "pl3tP5RxWkXI",
        "colab_type": "text"
      },
      "source": [
        "# **MODEL Selection plus training and testing split**"
      ]
    },
    {
      "cell_type": "code",
      "metadata": {
        "id": "R-xUIn_LJLzk",
        "colab_type": "code",
        "colab": {}
      },
      "source": [
        "y = df1['target']   #dependent variables\n",
        "X = df1.drop(['target','id'],axis=1)"
      ],
      "execution_count": 0,
      "outputs": []
    },
    {
      "cell_type": "code",
      "metadata": {
        "id": "G74bl0WwKIgz",
        "colab_type": "code",
        "colab": {
          "base_uri": "https://localhost:8080/",
          "height": 53
        },
        "outputId": "def4d24b-938e-4dd7-d534-a65a9313437e"
      },
      "source": [
        "from sklearn.model_selection import train_test_split\n",
        "X_train,X_test,Y_train,Y_test = train_test_split(X,y,test_size=0.2,random_state=42) \n",
        "print(X_train.shape,Y_train.shape)\n",
        "print(X_test.shape,Y_test.shape)"
      ],
      "execution_count": 472,
      "outputs": [
        {
          "output_type": "stream",
          "text": [
            "(480000, 24) (480000,)\n",
            "(120000, 24) (120000,)\n"
          ],
          "name": "stdout"
        }
      ]
    },
    {
      "cell_type": "markdown",
      "metadata": {
        "id": "DvLgJZOhfJBZ",
        "colab_type": "text"
      },
      "source": [
        "# **Feature Scaling**"
      ]
    },
    {
      "cell_type": "code",
      "metadata": {
        "id": "3xkfLCNgeGVm",
        "colab_type": "code",
        "colab": {
          "base_uri": "https://localhost:8080/",
          "height": 308
        },
        "outputId": "2687398d-ccef-4d4e-8086-f01d91dd4500"
      },
      "source": [
        "X_train.describe()"
      ],
      "execution_count": 493,
      "outputs": [
        {
          "output_type": "execute_result",
          "data": {
            "text/html": [
              "<div>\n",
              "<style scoped>\n",
              "    .dataframe tbody tr th:only-of-type {\n",
              "        vertical-align: middle;\n",
              "    }\n",
              "\n",
              "    .dataframe tbody tr th {\n",
              "        vertical-align: top;\n",
              "    }\n",
              "\n",
              "    .dataframe thead th {\n",
              "        text-align: right;\n",
              "    }\n",
              "</style>\n",
              "<table border=\"1\" class=\"dataframe\">\n",
              "  <thead>\n",
              "    <tr style=\"text-align: right;\">\n",
              "      <th></th>\n",
              "      <th>bin_0</th>\n",
              "      <th>bin_1</th>\n",
              "      <th>bin_2</th>\n",
              "      <th>bin_3</th>\n",
              "      <th>bin_4</th>\n",
              "      <th>ord_0</th>\n",
              "      <th>ord_1</th>\n",
              "      <th>ord_2</th>\n",
              "      <th>ord_3</th>\n",
              "      <th>ord_4</th>\n",
              "      <th>day</th>\n",
              "      <th>month</th>\n",
              "      <th>ord_5_</th>\n",
              "      <th>Green</th>\n",
              "      <th>Red</th>\n",
              "      <th>nom_1_</th>\n",
              "      <th>nom_2_</th>\n",
              "      <th>nom_3_</th>\n",
              "      <th>nom_4_</th>\n",
              "      <th>nom_5_</th>\n",
              "      <th>nom_6_</th>\n",
              "      <th>nom_7_</th>\n",
              "      <th>nom_8_</th>\n",
              "      <th>nom_9_</th>\n",
              "    </tr>\n",
              "  </thead>\n",
              "  <tbody>\n",
              "    <tr>\n",
              "      <th>count</th>\n",
              "      <td>480000.000000</td>\n",
              "      <td>480000.000000</td>\n",
              "      <td>480000.000000</td>\n",
              "      <td>480000.000000</td>\n",
              "      <td>480000.000000</td>\n",
              "      <td>480000.000000</td>\n",
              "      <td>480000.000000</td>\n",
              "      <td>480000.000000</td>\n",
              "      <td>480000.000000</td>\n",
              "      <td>480000.000000</td>\n",
              "      <td>480000.000000</td>\n",
              "      <td>480000.000000</td>\n",
              "      <td>480000.000000</td>\n",
              "      <td>480000.000000</td>\n",
              "      <td>480000.000000</td>\n",
              "      <td>480000.000000</td>\n",
              "      <td>480000.000000</td>\n",
              "      <td>480000.000000</td>\n",
              "      <td>480000.000000</td>\n",
              "      <td>480000.000000</td>\n",
              "      <td>480000.000000</td>\n",
              "      <td>480000.000000</td>\n",
              "      <td>480000.000000</td>\n",
              "      <td>480000.000000</td>\n",
              "    </tr>\n",
              "    <tr>\n",
              "      <th>mean</th>\n",
              "      <td>0.089467</td>\n",
              "      <td>0.179898</td>\n",
              "      <td>0.270077</td>\n",
              "      <td>0.360315</td>\n",
              "      <td>0.448473</td>\n",
              "      <td>1.920587</td>\n",
              "      <td>2.668304</td>\n",
              "      <td>3.017942</td>\n",
              "      <td>7.992410</td>\n",
              "      <td>12.333069</td>\n",
              "      <td>4.079729</td>\n",
              "      <td>6.420115</td>\n",
              "      <td>0.008679</td>\n",
              "      <td>0.087483</td>\n",
              "      <td>0.539348</td>\n",
              "      <td>0.229795</td>\n",
              "      <td>0.230052</td>\n",
              "      <td>0.229829</td>\n",
              "      <td>0.412666</td>\n",
              "      <td>0.001994</td>\n",
              "      <td>0.001805</td>\n",
              "      <td>0.006921</td>\n",
              "      <td>0.006889</td>\n",
              "      <td>0.001532</td>\n",
              "    </tr>\n",
              "    <tr>\n",
              "      <th>std</th>\n",
              "      <td>0.285416</td>\n",
              "      <td>0.384103</td>\n",
              "      <td>0.444000</td>\n",
              "      <td>0.480092</td>\n",
              "      <td>0.497338</td>\n",
              "      <td>0.856336</td>\n",
              "      <td>1.424441</td>\n",
              "      <td>1.697983</td>\n",
              "      <td>4.918388</td>\n",
              "      <td>7.436398</td>\n",
              "      <td>2.012671</td>\n",
              "      <td>3.418287</td>\n",
              "      <td>0.008908</td>\n",
              "      <td>0.282542</td>\n",
              "      <td>0.498450</td>\n",
              "      <td>0.071146</td>\n",
              "      <td>0.071428</td>\n",
              "      <td>0.071465</td>\n",
              "      <td>0.163918</td>\n",
              "      <td>0.005266</td>\n",
              "      <td>0.005364</td>\n",
              "      <td>0.006575</td>\n",
              "      <td>0.006458</td>\n",
              "      <td>0.005300</td>\n",
              "    </tr>\n",
              "    <tr>\n",
              "      <th>min</th>\n",
              "      <td>0.000000</td>\n",
              "      <td>0.000000</td>\n",
              "      <td>0.000000</td>\n",
              "      <td>0.000000</td>\n",
              "      <td>0.000000</td>\n",
              "      <td>1.000000</td>\n",
              "      <td>1.000000</td>\n",
              "      <td>1.000000</td>\n",
              "      <td>1.000000</td>\n",
              "      <td>0.000000</td>\n",
              "      <td>1.000000</td>\n",
              "      <td>1.000000</td>\n",
              "      <td>0.000145</td>\n",
              "      <td>0.000000</td>\n",
              "      <td>0.000000</td>\n",
              "      <td>0.023592</td>\n",
              "      <td>0.023573</td>\n",
              "      <td>0.023862</td>\n",
              "      <td>0.044515</td>\n",
              "      <td>0.000002</td>\n",
              "      <td>0.000002</td>\n",
              "      <td>0.000132</td>\n",
              "      <td>0.000102</td>\n",
              "      <td>0.000002</td>\n",
              "    </tr>\n",
              "    <tr>\n",
              "      <th>25%</th>\n",
              "      <td>0.000000</td>\n",
              "      <td>0.000000</td>\n",
              "      <td>0.000000</td>\n",
              "      <td>0.000000</td>\n",
              "      <td>0.000000</td>\n",
              "      <td>1.000000</td>\n",
              "      <td>1.000000</td>\n",
              "      <td>1.000000</td>\n",
              "      <td>3.000000</td>\n",
              "      <td>6.000000</td>\n",
              "      <td>2.000000</td>\n",
              "      <td>3.000000</td>\n",
              "      <td>0.005385</td>\n",
              "      <td>0.000000</td>\n",
              "      <td>0.000000</td>\n",
              "      <td>0.199063</td>\n",
              "      <td>0.199173</td>\n",
              "      <td>0.199733</td>\n",
              "      <td>0.327732</td>\n",
              "      <td>0.000795</td>\n",
              "      <td>0.000642</td>\n",
              "      <td>0.004310</td>\n",
              "      <td>0.004325</td>\n",
              "      <td>0.000450</td>\n",
              "    </tr>\n",
              "    <tr>\n",
              "      <th>50%</th>\n",
              "      <td>0.000000</td>\n",
              "      <td>0.000000</td>\n",
              "      <td>0.000000</td>\n",
              "      <td>0.000000</td>\n",
              "      <td>0.000000</td>\n",
              "      <td>2.000000</td>\n",
              "      <td>3.000000</td>\n",
              "      <td>3.000000</td>\n",
              "      <td>8.000000</td>\n",
              "      <td>13.000000</td>\n",
              "      <td>4.000000</td>\n",
              "      <td>6.000000</td>\n",
              "      <td>0.007270</td>\n",
              "      <td>0.000000</td>\n",
              "      <td>1.000000</td>\n",
              "      <td>0.254272</td>\n",
              "      <td>0.253865</td>\n",
              "      <td>0.253045</td>\n",
              "      <td>0.544427</td>\n",
              "      <td>0.001127</td>\n",
              "      <td>0.000907</td>\n",
              "      <td>0.006250</td>\n",
              "      <td>0.006247</td>\n",
              "      <td>0.000627</td>\n",
              "    </tr>\n",
              "    <tr>\n",
              "      <th>75%</th>\n",
              "      <td>0.000000</td>\n",
              "      <td>0.000000</td>\n",
              "      <td>1.000000</td>\n",
              "      <td>1.000000</td>\n",
              "      <td>1.000000</td>\n",
              "      <td>3.000000</td>\n",
              "      <td>4.000000</td>\n",
              "      <td>4.000000</td>\n",
              "      <td>13.000000</td>\n",
              "      <td>18.000000</td>\n",
              "      <td>6.000000</td>\n",
              "      <td>8.000000</td>\n",
              "      <td>0.008388</td>\n",
              "      <td>0.000000</td>\n",
              "      <td>1.000000</td>\n",
              "      <td>0.303910</td>\n",
              "      <td>0.304887</td>\n",
              "      <td>0.304983</td>\n",
              "      <td>0.544427</td>\n",
              "      <td>0.001380</td>\n",
              "      <td>0.001100</td>\n",
              "      <td>0.007520</td>\n",
              "      <td>0.007557</td>\n",
              "      <td>0.000767</td>\n",
              "    </tr>\n",
              "    <tr>\n",
              "      <th>max</th>\n",
              "      <td>1.000000</td>\n",
              "      <td>1.000000</td>\n",
              "      <td>1.000000</td>\n",
              "      <td>1.000000</td>\n",
              "      <td>1.000000</td>\n",
              "      <td>3.000000</td>\n",
              "      <td>5.000000</td>\n",
              "      <td>6.000000</td>\n",
              "      <td>15.000000</td>\n",
              "      <td>25.000000</td>\n",
              "      <td>7.000000</td>\n",
              "      <td>12.000000</td>\n",
              "      <td>0.047125</td>\n",
              "      <td>1.000000</td>\n",
              "      <td>1.000000</td>\n",
              "      <td>0.303910</td>\n",
              "      <td>0.304887</td>\n",
              "      <td>0.304983</td>\n",
              "      <td>0.544427</td>\n",
              "      <td>0.031258</td>\n",
              "      <td>0.031560</td>\n",
              "      <td>0.038397</td>\n",
              "      <td>0.038012</td>\n",
              "      <td>0.031063</td>\n",
              "    </tr>\n",
              "  </tbody>\n",
              "</table>\n",
              "</div>"
            ],
            "text/plain": [
              "               bin_0          bin_1          bin_2          bin_3  \\\n",
              "count  480000.000000  480000.000000  480000.000000  480000.000000   \n",
              "mean        0.089467       0.179898       0.270077       0.360315   \n",
              "std         0.285416       0.384103       0.444000       0.480092   \n",
              "min         0.000000       0.000000       0.000000       0.000000   \n",
              "25%         0.000000       0.000000       0.000000       0.000000   \n",
              "50%         0.000000       0.000000       0.000000       0.000000   \n",
              "75%         0.000000       0.000000       1.000000       1.000000   \n",
              "max         1.000000       1.000000       1.000000       1.000000   \n",
              "\n",
              "               bin_4          ord_0          ord_1          ord_2  \\\n",
              "count  480000.000000  480000.000000  480000.000000  480000.000000   \n",
              "mean        0.448473       1.920587       2.668304       3.017942   \n",
              "std         0.497338       0.856336       1.424441       1.697983   \n",
              "min         0.000000       1.000000       1.000000       1.000000   \n",
              "25%         0.000000       1.000000       1.000000       1.000000   \n",
              "50%         0.000000       2.000000       3.000000       3.000000   \n",
              "75%         1.000000       3.000000       4.000000       4.000000   \n",
              "max         1.000000       3.000000       5.000000       6.000000   \n",
              "\n",
              "               ord_3          ord_4            day          month  \\\n",
              "count  480000.000000  480000.000000  480000.000000  480000.000000   \n",
              "mean        7.992410      12.333069       4.079729       6.420115   \n",
              "std         4.918388       7.436398       2.012671       3.418287   \n",
              "min         1.000000       0.000000       1.000000       1.000000   \n",
              "25%         3.000000       6.000000       2.000000       3.000000   \n",
              "50%         8.000000      13.000000       4.000000       6.000000   \n",
              "75%        13.000000      18.000000       6.000000       8.000000   \n",
              "max        15.000000      25.000000       7.000000      12.000000   \n",
              "\n",
              "              ord_5_          Green            Red         nom_1_  \\\n",
              "count  480000.000000  480000.000000  480000.000000  480000.000000   \n",
              "mean        0.008679       0.087483       0.539348       0.229795   \n",
              "std         0.008908       0.282542       0.498450       0.071146   \n",
              "min         0.000145       0.000000       0.000000       0.023592   \n",
              "25%         0.005385       0.000000       0.000000       0.199063   \n",
              "50%         0.007270       0.000000       1.000000       0.254272   \n",
              "75%         0.008388       0.000000       1.000000       0.303910   \n",
              "max         0.047125       1.000000       1.000000       0.303910   \n",
              "\n",
              "              nom_2_         nom_3_         nom_4_         nom_5_  \\\n",
              "count  480000.000000  480000.000000  480000.000000  480000.000000   \n",
              "mean        0.230052       0.229829       0.412666       0.001994   \n",
              "std         0.071428       0.071465       0.163918       0.005266   \n",
              "min         0.023573       0.023862       0.044515       0.000002   \n",
              "25%         0.199173       0.199733       0.327732       0.000795   \n",
              "50%         0.253865       0.253045       0.544427       0.001127   \n",
              "75%         0.304887       0.304983       0.544427       0.001380   \n",
              "max         0.304887       0.304983       0.544427       0.031258   \n",
              "\n",
              "              nom_6_         nom_7_         nom_8_         nom_9_  \n",
              "count  480000.000000  480000.000000  480000.000000  480000.000000  \n",
              "mean        0.001805       0.006921       0.006889       0.001532  \n",
              "std         0.005364       0.006575       0.006458       0.005300  \n",
              "min         0.000002       0.000132       0.000102       0.000002  \n",
              "25%         0.000642       0.004310       0.004325       0.000450  \n",
              "50%         0.000907       0.006250       0.006247       0.000627  \n",
              "75%         0.001100       0.007520       0.007557       0.000767  \n",
              "max         0.031560       0.038397       0.038012       0.031063  "
            ]
          },
          "metadata": {
            "tags": []
          },
          "execution_count": 493
        }
      ]
    },
    {
      "cell_type": "code",
      "metadata": {
        "id": "pXupo7ELeOZp",
        "colab_type": "code",
        "colab": {}
      },
      "source": [
        "cols = X_train.columns"
      ],
      "execution_count": 0,
      "outputs": []
    },
    {
      "cell_type": "code",
      "metadata": {
        "id": "IdbkJRgHeOlB",
        "colab_type": "code",
        "colab": {}
      },
      "source": [
        "\n",
        "from sklearn.preprocessing import MinMaxScaler\n",
        "\n",
        "scaler = MinMaxScaler()\n",
        "\n",
        "X_train = scaler.fit_transform(X_train)\n",
        "\n",
        "X_test = scaler.transform(X_test)"
      ],
      "execution_count": 0,
      "outputs": []
    },
    {
      "cell_type": "code",
      "metadata": {
        "id": "Chzve34KeOik",
        "colab_type": "code",
        "colab": {}
      },
      "source": [
        "X_train = pd.DataFrame(X_train, columns=[cols])"
      ],
      "execution_count": 0,
      "outputs": []
    },
    {
      "cell_type": "code",
      "metadata": {
        "id": "YeDLaXg_eOeJ",
        "colab_type": "code",
        "colab": {}
      },
      "source": [
        "\n",
        "X_test = pd.DataFrame(X_test, columns=[cols])"
      ],
      "execution_count": 0,
      "outputs": []
    },
    {
      "cell_type": "code",
      "metadata": {
        "id": "KKvru-l4enQn",
        "colab_type": "code",
        "colab": {
          "base_uri": "https://localhost:8080/",
          "height": 308
        },
        "outputId": "c890f8cd-68cc-43a0-c3e8-1c3ec77a8c8b"
      },
      "source": [
        "\n",
        "X_train.describe()"
      ],
      "execution_count": 498,
      "outputs": [
        {
          "output_type": "execute_result",
          "data": {
            "text/html": [
              "<div>\n",
              "<style scoped>\n",
              "    .dataframe tbody tr th:only-of-type {\n",
              "        vertical-align: middle;\n",
              "    }\n",
              "\n",
              "    .dataframe tbody tr th {\n",
              "        vertical-align: top;\n",
              "    }\n",
              "\n",
              "    .dataframe thead tr th {\n",
              "        text-align: left;\n",
              "    }\n",
              "</style>\n",
              "<table border=\"1\" class=\"dataframe\">\n",
              "  <thead>\n",
              "    <tr>\n",
              "      <th></th>\n",
              "      <th>bin_0</th>\n",
              "      <th>bin_1</th>\n",
              "      <th>bin_2</th>\n",
              "      <th>bin_3</th>\n",
              "      <th>bin_4</th>\n",
              "      <th>ord_0</th>\n",
              "      <th>ord_1</th>\n",
              "      <th>ord_2</th>\n",
              "      <th>ord_3</th>\n",
              "      <th>ord_4</th>\n",
              "      <th>day</th>\n",
              "      <th>month</th>\n",
              "      <th>ord_5_</th>\n",
              "      <th>Green</th>\n",
              "      <th>Red</th>\n",
              "      <th>nom_1_</th>\n",
              "      <th>nom_2_</th>\n",
              "      <th>nom_3_</th>\n",
              "      <th>nom_4_</th>\n",
              "      <th>nom_5_</th>\n",
              "      <th>nom_6_</th>\n",
              "      <th>nom_7_</th>\n",
              "      <th>nom_8_</th>\n",
              "      <th>nom_9_</th>\n",
              "    </tr>\n",
              "  </thead>\n",
              "  <tbody>\n",
              "    <tr>\n",
              "      <th>count</th>\n",
              "      <td>480000.000000</td>\n",
              "      <td>480000.000000</td>\n",
              "      <td>480000.000000</td>\n",
              "      <td>480000.000000</td>\n",
              "      <td>480000.000000</td>\n",
              "      <td>480000.000000</td>\n",
              "      <td>480000.000000</td>\n",
              "      <td>480000.000000</td>\n",
              "      <td>480000.000000</td>\n",
              "      <td>480000.000000</td>\n",
              "      <td>480000.000000</td>\n",
              "      <td>480000.000000</td>\n",
              "      <td>480000.000000</td>\n",
              "      <td>480000.000000</td>\n",
              "      <td>480000.000000</td>\n",
              "      <td>480000.000000</td>\n",
              "      <td>480000.000000</td>\n",
              "      <td>480000.000000</td>\n",
              "      <td>480000.000000</td>\n",
              "      <td>480000.000000</td>\n",
              "      <td>480000.000000</td>\n",
              "      <td>480000.000000</td>\n",
              "      <td>480000.000000</td>\n",
              "      <td>480000.000000</td>\n",
              "    </tr>\n",
              "    <tr>\n",
              "      <th>mean</th>\n",
              "      <td>0.089467</td>\n",
              "      <td>0.179898</td>\n",
              "      <td>0.270077</td>\n",
              "      <td>0.360315</td>\n",
              "      <td>0.448473</td>\n",
              "      <td>0.460294</td>\n",
              "      <td>0.417076</td>\n",
              "      <td>0.403588</td>\n",
              "      <td>0.499458</td>\n",
              "      <td>0.493323</td>\n",
              "      <td>0.513288</td>\n",
              "      <td>0.492738</td>\n",
              "      <td>0.181642</td>\n",
              "      <td>0.087483</td>\n",
              "      <td>0.539348</td>\n",
              "      <td>0.735604</td>\n",
              "      <td>0.733981</td>\n",
              "      <td>0.732664</td>\n",
              "      <td>0.736432</td>\n",
              "      <td>0.063752</td>\n",
              "      <td>0.057142</td>\n",
              "      <td>0.177428</td>\n",
              "      <td>0.179046</td>\n",
              "      <td>0.049281</td>\n",
              "    </tr>\n",
              "    <tr>\n",
              "      <th>std</th>\n",
              "      <td>0.285416</td>\n",
              "      <td>0.384103</td>\n",
              "      <td>0.444000</td>\n",
              "      <td>0.480092</td>\n",
              "      <td>0.497338</td>\n",
              "      <td>0.428168</td>\n",
              "      <td>0.356110</td>\n",
              "      <td>0.339597</td>\n",
              "      <td>0.351313</td>\n",
              "      <td>0.297456</td>\n",
              "      <td>0.335445</td>\n",
              "      <td>0.310753</td>\n",
              "      <td>0.189622</td>\n",
              "      <td>0.282542</td>\n",
              "      <td>0.498450</td>\n",
              "      <td>0.253804</td>\n",
              "      <td>0.253908</td>\n",
              "      <td>0.254214</td>\n",
              "      <td>0.327894</td>\n",
              "      <td>0.168468</td>\n",
              "      <td>0.169971</td>\n",
              "      <td>0.171836</td>\n",
              "      <td>0.170355</td>\n",
              "      <td>0.170614</td>\n",
              "    </tr>\n",
              "    <tr>\n",
              "      <th>min</th>\n",
              "      <td>0.000000</td>\n",
              "      <td>0.000000</td>\n",
              "      <td>0.000000</td>\n",
              "      <td>0.000000</td>\n",
              "      <td>0.000000</td>\n",
              "      <td>0.000000</td>\n",
              "      <td>0.000000</td>\n",
              "      <td>0.000000</td>\n",
              "      <td>0.000000</td>\n",
              "      <td>0.000000</td>\n",
              "      <td>0.000000</td>\n",
              "      <td>0.000000</td>\n",
              "      <td>0.000000</td>\n",
              "      <td>0.000000</td>\n",
              "      <td>0.000000</td>\n",
              "      <td>0.000000</td>\n",
              "      <td>0.000000</td>\n",
              "      <td>0.000000</td>\n",
              "      <td>0.000000</td>\n",
              "      <td>0.000000</td>\n",
              "      <td>0.000000</td>\n",
              "      <td>0.000000</td>\n",
              "      <td>0.000000</td>\n",
              "      <td>0.000000</td>\n",
              "    </tr>\n",
              "    <tr>\n",
              "      <th>25%</th>\n",
              "      <td>0.000000</td>\n",
              "      <td>0.000000</td>\n",
              "      <td>0.000000</td>\n",
              "      <td>0.000000</td>\n",
              "      <td>0.000000</td>\n",
              "      <td>0.000000</td>\n",
              "      <td>0.000000</td>\n",
              "      <td>0.000000</td>\n",
              "      <td>0.142857</td>\n",
              "      <td>0.240000</td>\n",
              "      <td>0.166667</td>\n",
              "      <td>0.181818</td>\n",
              "      <td>0.111537</td>\n",
              "      <td>0.000000</td>\n",
              "      <td>0.000000</td>\n",
              "      <td>0.625973</td>\n",
              "      <td>0.624215</td>\n",
              "      <td>0.625607</td>\n",
              "      <td>0.566533</td>\n",
              "      <td>0.025381</td>\n",
              "      <td>0.020280</td>\n",
              "      <td>0.109195</td>\n",
              "      <td>0.111404</td>\n",
              "      <td>0.014434</td>\n",
              "    </tr>\n",
              "    <tr>\n",
              "      <th>50%</th>\n",
              "      <td>0.000000</td>\n",
              "      <td>0.000000</td>\n",
              "      <td>0.000000</td>\n",
              "      <td>0.000000</td>\n",
              "      <td>0.000000</td>\n",
              "      <td>0.500000</td>\n",
              "      <td>0.500000</td>\n",
              "      <td>0.400000</td>\n",
              "      <td>0.500000</td>\n",
              "      <td>0.520000</td>\n",
              "      <td>0.500000</td>\n",
              "      <td>0.454545</td>\n",
              "      <td>0.151660</td>\n",
              "      <td>0.000000</td>\n",
              "      <td>1.000000</td>\n",
              "      <td>0.822922</td>\n",
              "      <td>0.818630</td>\n",
              "      <td>0.815246</td>\n",
              "      <td>1.000000</td>\n",
              "      <td>0.035992</td>\n",
              "      <td>0.028677</td>\n",
              "      <td>0.159894</td>\n",
              "      <td>0.162094</td>\n",
              "      <td>0.020121</td>\n",
              "    </tr>\n",
              "    <tr>\n",
              "      <th>75%</th>\n",
              "      <td>0.000000</td>\n",
              "      <td>0.000000</td>\n",
              "      <td>1.000000</td>\n",
              "      <td>1.000000</td>\n",
              "      <td>1.000000</td>\n",
              "      <td>1.000000</td>\n",
              "      <td>0.750000</td>\n",
              "      <td>0.600000</td>\n",
              "      <td>0.857143</td>\n",
              "      <td>0.720000</td>\n",
              "      <td>0.833333</td>\n",
              "      <td>0.636364</td>\n",
              "      <td>0.175465</td>\n",
              "      <td>0.000000</td>\n",
              "      <td>1.000000</td>\n",
              "      <td>1.000000</td>\n",
              "      <td>1.000000</td>\n",
              "      <td>1.000000</td>\n",
              "      <td>1.000000</td>\n",
              "      <td>0.044097</td>\n",
              "      <td>0.034803</td>\n",
              "      <td>0.193083</td>\n",
              "      <td>0.196650</td>\n",
              "      <td>0.024628</td>\n",
              "    </tr>\n",
              "    <tr>\n",
              "      <th>max</th>\n",
              "      <td>1.000000</td>\n",
              "      <td>1.000000</td>\n",
              "      <td>1.000000</td>\n",
              "      <td>1.000000</td>\n",
              "      <td>1.000000</td>\n",
              "      <td>1.000000</td>\n",
              "      <td>1.000000</td>\n",
              "      <td>1.000000</td>\n",
              "      <td>1.000000</td>\n",
              "      <td>1.000000</td>\n",
              "      <td>1.000000</td>\n",
              "      <td>1.000000</td>\n",
              "      <td>1.000000</td>\n",
              "      <td>1.000000</td>\n",
              "      <td>1.000000</td>\n",
              "      <td>1.000000</td>\n",
              "      <td>1.000000</td>\n",
              "      <td>1.000000</td>\n",
              "      <td>1.000000</td>\n",
              "      <td>1.000000</td>\n",
              "      <td>1.000000</td>\n",
              "      <td>1.000000</td>\n",
              "      <td>1.000000</td>\n",
              "      <td>1.000000</td>\n",
              "    </tr>\n",
              "  </tbody>\n",
              "</table>\n",
              "</div>"
            ],
            "text/plain": [
              "               bin_0          bin_1          bin_2          bin_3  \\\n",
              "count  480000.000000  480000.000000  480000.000000  480000.000000   \n",
              "mean        0.089467       0.179898       0.270077       0.360315   \n",
              "std         0.285416       0.384103       0.444000       0.480092   \n",
              "min         0.000000       0.000000       0.000000       0.000000   \n",
              "25%         0.000000       0.000000       0.000000       0.000000   \n",
              "50%         0.000000       0.000000       0.000000       0.000000   \n",
              "75%         0.000000       0.000000       1.000000       1.000000   \n",
              "max         1.000000       1.000000       1.000000       1.000000   \n",
              "\n",
              "               bin_4          ord_0          ord_1          ord_2  \\\n",
              "count  480000.000000  480000.000000  480000.000000  480000.000000   \n",
              "mean        0.448473       0.460294       0.417076       0.403588   \n",
              "std         0.497338       0.428168       0.356110       0.339597   \n",
              "min         0.000000       0.000000       0.000000       0.000000   \n",
              "25%         0.000000       0.000000       0.000000       0.000000   \n",
              "50%         0.000000       0.500000       0.500000       0.400000   \n",
              "75%         1.000000       1.000000       0.750000       0.600000   \n",
              "max         1.000000       1.000000       1.000000       1.000000   \n",
              "\n",
              "               ord_3          ord_4            day          month  \\\n",
              "count  480000.000000  480000.000000  480000.000000  480000.000000   \n",
              "mean        0.499458       0.493323       0.513288       0.492738   \n",
              "std         0.351313       0.297456       0.335445       0.310753   \n",
              "min         0.000000       0.000000       0.000000       0.000000   \n",
              "25%         0.142857       0.240000       0.166667       0.181818   \n",
              "50%         0.500000       0.520000       0.500000       0.454545   \n",
              "75%         0.857143       0.720000       0.833333       0.636364   \n",
              "max         1.000000       1.000000       1.000000       1.000000   \n",
              "\n",
              "              ord_5_          Green            Red         nom_1_  \\\n",
              "count  480000.000000  480000.000000  480000.000000  480000.000000   \n",
              "mean        0.181642       0.087483       0.539348       0.735604   \n",
              "std         0.189622       0.282542       0.498450       0.253804   \n",
              "min         0.000000       0.000000       0.000000       0.000000   \n",
              "25%         0.111537       0.000000       0.000000       0.625973   \n",
              "50%         0.151660       0.000000       1.000000       0.822922   \n",
              "75%         0.175465       0.000000       1.000000       1.000000   \n",
              "max         1.000000       1.000000       1.000000       1.000000   \n",
              "\n",
              "              nom_2_         nom_3_         nom_4_         nom_5_  \\\n",
              "count  480000.000000  480000.000000  480000.000000  480000.000000   \n",
              "mean        0.733981       0.732664       0.736432       0.063752   \n",
              "std         0.253908       0.254214       0.327894       0.168468   \n",
              "min         0.000000       0.000000       0.000000       0.000000   \n",
              "25%         0.624215       0.625607       0.566533       0.025381   \n",
              "50%         0.818630       0.815246       1.000000       0.035992   \n",
              "75%         1.000000       1.000000       1.000000       0.044097   \n",
              "max         1.000000       1.000000       1.000000       1.000000   \n",
              "\n",
              "              nom_6_         nom_7_         nom_8_         nom_9_  \n",
              "count  480000.000000  480000.000000  480000.000000  480000.000000  \n",
              "mean        0.057142       0.177428       0.179046       0.049281  \n",
              "std         0.169971       0.171836       0.170355       0.170614  \n",
              "min         0.000000       0.000000       0.000000       0.000000  \n",
              "25%         0.020280       0.109195       0.111404       0.014434  \n",
              "50%         0.028677       0.159894       0.162094       0.020121  \n",
              "75%         0.034803       0.193083       0.196650       0.024628  \n",
              "max         1.000000       1.000000       1.000000       1.000000  "
            ]
          },
          "metadata": {
            "tags": []
          },
          "execution_count": 498
        }
      ]
    },
    {
      "cell_type": "code",
      "metadata": {
        "id": "P-AqM5LAenUv",
        "colab_type": "code",
        "colab": {}
      },
      "source": [
        ""
      ],
      "execution_count": 0,
      "outputs": []
    },
    {
      "cell_type": "code",
      "metadata": {
        "id": "DORnCJ7eKI3D",
        "colab_type": "code",
        "colab": {
          "base_uri": "https://localhost:8080/",
          "height": 35
        },
        "outputId": "5b84743e-f0b1-45bb-81d3-67de1d625169"
      },
      "source": [
        "#fit the regression model \n",
        "from sklearn.linear_model import LinearRegression\n",
        "model = LinearRegression()\n",
        "model.fit(X_train,Y_train)\n",
        "predict = model.predict(X_test)\n",
        "model.score(X_test,Y_test)"
      ],
      "execution_count": 499,
      "outputs": [
        {
          "output_type": "execute_result",
          "data": {
            "text/plain": [
              "0.08953150681417499"
            ]
          },
          "metadata": {
            "tags": []
          },
          "execution_count": 499
        }
      ]
    },
    {
      "cell_type": "code",
      "metadata": {
        "id": "XE0n26bnKQ0I",
        "colab_type": "code",
        "colab": {
          "base_uri": "https://localhost:8080/",
          "height": 35
        },
        "outputId": "6f990171-e65b-48a1-a549-894540be4b41"
      },
      "source": [
        "from sklearn.linear_model import LogisticRegression\n",
        "from sklearn.metrics import classification_report, confusion_matrix\n",
        "model = LogisticRegression(solver='liblinear', C=10.0, random_state=0)\n",
        "model.fit(X_train,Y_train)\n",
        "\n",
        "# Step 4: Evaluate the model\n",
        "#p_pred = model.predict_proba(X_test)\n",
        "#y_pred = model.predict(X_t)\n",
        "model.score(X_test,Y_test)\n",
        "#conf_m = confusion_matrix(y, y_pred)\n",
        "#report = classification_report(y, y_pred)"
      ],
      "execution_count": 500,
      "outputs": [
        {
          "output_type": "execute_result",
          "data": {
            "text/plain": [
              "0.8161583333333333"
            ]
          },
          "metadata": {
            "tags": []
          },
          "execution_count": 500
        }
      ]
    },
    {
      "cell_type": "code",
      "metadata": {
        "id": "hTTsBmihMpi-",
        "colab_type": "code",
        "colab": {
          "base_uri": "https://localhost:8080/",
          "height": 53
        },
        "outputId": "7db6c10a-ca4a-4482-8778-b74eb6a94b70"
      },
      "source": [
        "print('Training set score: {:.4f}'.format(model.score(X_train, Y_train)))\n",
        "\n",
        "print('Test set score: {:.4f}'.format(model.score(X_test, Y_test)))"
      ],
      "execution_count": 501,
      "outputs": [
        {
          "output_type": "stream",
          "text": [
            "Training set score: 0.8146\n",
            "Test set score: 0.8162\n"
          ],
          "name": "stdout"
        }
      ]
    },
    {
      "cell_type": "code",
      "metadata": {
        "id": "2On7eaK4Z4ks",
        "colab_type": "code",
        "colab": {
          "base_uri": "https://localhost:8080/",
          "height": 35
        },
        "outputId": "6197119e-173e-4d96-dc4d-eefa3aa736b7"
      },
      "source": [
        "\n",
        "y_pred_test = model.predict(X_test)\n",
        "y_pred_test"
      ],
      "execution_count": 502,
      "outputs": [
        {
          "output_type": "execute_result",
          "data": {
            "text/plain": [
              "array([0, 0, 0, ..., 0, 0, 0])"
            ]
          },
          "metadata": {
            "tags": []
          },
          "execution_count": 502
        }
      ]
    },
    {
      "cell_type": "code",
      "metadata": {
        "id": "XUxq7Y-qZ7Z3",
        "colab_type": "code",
        "colab": {}
      },
      "source": [
        ""
      ],
      "execution_count": 0,
      "outputs": []
    },
    {
      "cell_type": "code",
      "metadata": {
        "id": "LEM7sC9aZ6Fl",
        "colab_type": "code",
        "colab": {}
      },
      "source": [
        ""
      ],
      "execution_count": 0,
      "outputs": []
    },
    {
      "cell_type": "code",
      "metadata": {
        "id": "iDwULTYBUiP_",
        "colab_type": "code",
        "colab": {
          "base_uri": "https://localhost:8080/",
          "height": 91
        },
        "outputId": "d6be4ccb-3b72-4f8e-f60f-d5fa3b80b413"
      },
      "source": [
        "#seed for random state and splits - number of Kfolds\n",
        "random_seed = 1\n",
        "splits = 5\n",
        "from sklearn import model_selection\n",
        "#Scikit Kfold model call\n",
        "kfold = model_selection.KFold(n_splits=splits,random_state=random_seed)\n",
        "#Logistic Regression Model\n",
        "model = LogisticRegression()\n",
        "#results set equal to model with kfolds\n",
        "results = model_selection.cross_val_score(model, X_train, Y_train,cv=kfold)\n",
        "#printing the averaged score over the 5 Kfolds\n",
        "print(\"Accuracy: %.3f%% (%.3f%%)\" % (results.mean()*100.0, results.std()*100.0))"
      ],
      "execution_count": 503,
      "outputs": [
        {
          "output_type": "stream",
          "text": [
            "/usr/local/lib/python3.6/dist-packages/sklearn/model_selection/_split.py:296: FutureWarning: Setting a random_state has no effect since shuffle is False. This will raise an error in 0.24. You should leave random_state to its default (None), or set shuffle=True.\n",
            "  FutureWarning\n"
          ],
          "name": "stderr"
        },
        {
          "output_type": "stream",
          "text": [
            "Accuracy: 81.463% (0.036%)\n"
          ],
          "name": "stdout"
        }
      ]
    },
    {
      "cell_type": "code",
      "metadata": {
        "id": "3nxIPfW8VDfg",
        "colab_type": "code",
        "colab": {
          "base_uri": "https://localhost:8080/",
          "height": 35
        },
        "outputId": "36dcda47-215b-43f3-8231-95965c322e6c"
      },
      "source": [
        "print(\"Accuracy: %.3f%% (%.3f%%)\" % (results.mean()*100.0, results.std()*100.0))"
      ],
      "execution_count": 504,
      "outputs": [
        {
          "output_type": "stream",
          "text": [
            "Accuracy: 81.463% (0.036%)\n"
          ],
          "name": "stdout"
        }
      ]
    },
    {
      "cell_type": "code",
      "metadata": {
        "id": "rSKd14CPVx01",
        "colab_type": "code",
        "colab": {
          "base_uri": "https://localhost:8080/",
          "height": 71
        },
        "outputId": "26bbea7d-df9e-46be-996a-780977ddc51e"
      },
      "source": [
        "\n",
        "# check class distribution in test set\n",
        "\n",
        "Y_test.value_counts()"
      ],
      "execution_count": 505,
      "outputs": [
        {
          "output_type": "execute_result",
          "data": {
            "text/plain": [
              "0    97640\n",
              "1    22360\n",
              "Name: target, dtype: int64"
            ]
          },
          "metadata": {
            "tags": []
          },
          "execution_count": 505
        }
      ]
    },
    {
      "cell_type": "code",
      "metadata": {
        "id": "wnOpTTpCYEyR",
        "colab_type": "code",
        "colab": {
          "base_uri": "https://localhost:8080/",
          "height": 35
        },
        "outputId": "1faf4f5b-62e0-4a8f-c75e-0532a0e6434d"
      },
      "source": [
        "# check null accuracy score\n",
        "\n",
        "null_accuracy = (97640/(97640+22360))\n",
        "\n",
        "print('Null accuracy score: {0:0.4f}'. format(null_accuracy))"
      ],
      "execution_count": 506,
      "outputs": [
        {
          "output_type": "stream",
          "text": [
            "Null accuracy score: 0.8137\n"
          ],
          "name": "stdout"
        }
      ]
    },
    {
      "cell_type": "code",
      "metadata": {
        "id": "H3hwts6SYlZ2",
        "colab_type": "code",
        "colab": {
          "base_uri": "https://localhost:8080/",
          "height": 231
        },
        "outputId": "4f43b367-b0b0-4c8c-de8b-7b14863f63c9"
      },
      "source": [
        "# Print the Confusion Matrix and slice it into four pieces\n",
        "\n",
        "from sklearn.metrics import confusion_matrix\n",
        "\n",
        "cm = confusion_matrix(Y_test, y_pred_test)\n",
        "\n",
        "print('Confusion matrix\\n\\n', cm)\n",
        "\n",
        "print('\\nTrue Positives(TP) = ', cm[0,0])\n",
        "\n",
        "print('\\nTrue Negatives(TN) = ', cm[1,1])\n",
        "\n",
        "print('\\nFalse Positives(FP) = ', cm[0,1])\n",
        "\n",
        "print('\\nFalse Negatives(FN) = ', cm[1,0])"
      ],
      "execution_count": 507,
      "outputs": [
        {
          "output_type": "stream",
          "text": [
            "Confusion matrix\n",
            "\n",
            " [[96375  1265]\n",
            " [20796  1564]]\n",
            "\n",
            "True Positives(TP) =  96375\n",
            "\n",
            "True Negatives(TN) =  1564\n",
            "\n",
            "False Positives(FP) =  1265\n",
            "\n",
            "False Negatives(FN) =  20796\n"
          ],
          "name": "stdout"
        }
      ]
    },
    {
      "cell_type": "code",
      "metadata": {
        "id": "01dm8Sw-adH_",
        "colab_type": "code",
        "colab": {
          "base_uri": "https://localhost:8080/",
          "height": 178
        },
        "outputId": "de3eaf2d-9d6b-4e58-c356-a8452e4dda40"
      },
      "source": [
        "from sklearn.metrics import classification_report\n",
        "\n",
        "print(classification_report(Y_test, y_pred_test))"
      ],
      "execution_count": 508,
      "outputs": [
        {
          "output_type": "stream",
          "text": [
            "              precision    recall  f1-score   support\n",
            "\n",
            "           0       0.82      0.99      0.90     97640\n",
            "           1       0.55      0.07      0.12     22360\n",
            "\n",
            "    accuracy                           0.82    120000\n",
            "   macro avg       0.69      0.53      0.51    120000\n",
            "weighted avg       0.77      0.82      0.75    120000\n",
            "\n"
          ],
          "name": "stdout"
        }
      ]
    },
    {
      "cell_type": "code",
      "metadata": {
        "id": "fq5Vn7YcasfI",
        "colab_type": "code",
        "colab": {}
      },
      "source": [
        ""
      ],
      "execution_count": 0,
      "outputs": []
    }
  ]
}